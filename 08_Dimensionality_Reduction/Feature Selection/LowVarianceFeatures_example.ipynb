{
 "cells": [
  {
   "cell_type": "code",
   "execution_count": 1,
   "id": "31afb5bc",
   "metadata": {},
   "outputs": [
    {
     "name": "stdout",
     "output_type": "stream",
     "text": [
      "[[0]\n",
      " [0]\n",
      " [1]\n",
      " [0]\n",
      " [1]]\n"
     ]
    }
   ],
   "source": [
    "# Import the VarianceThreshold class from the scikit-learn library, which is used for feature selection\n",
    "from sklearn.feature_selection import VarianceThreshold  \n",
    "\n",
    "# Define a dataset 'X' with three Boolean features. This dataset is in the form of a list of lists, where each inner list represents a sample with three features.\n",
    "X = [[0, 1, 0], [1, 0, 0], [0, 1, 1], [0, 1, 0], [0, 1, 1]]  \n",
    "\n",
    "# Instantiate the VarianceThreshold object 'sel' with a threshold of 0.2. Features with a variance lower than this threshold will be removed.\n",
    "# Variance threshold is a value which sets the criterion for removing low-variance features. Here, 0.2 is used as the cutoff.\n",
    "sel = VarianceThreshold(threshold=0.2)  \n",
    "\n",
    "# Apply the VarianceThreshold to the dataset 'X' using the 'fit_transform' method. This method first fits the variance threshold model to the data\n",
    "# and then transforms the data by removing features that don't meet the threshold. The result is stored in 'X_new'.\n",
    "X_new = sel.fit_transform(X)  \n",
    "\n",
    "# Print the transformed dataset 'X_new', which only contains features that have a variance above the specified threshold.\n",
    "print(X_new)"
   ]
  },
  {
   "cell_type": "code",
   "execution_count": 2,
   "id": "7aedac4c",
   "metadata": {},
   "outputs": [],
   "source": [
    "# The output [[0] [0] [1] [0] [1]] corresponds to the third feature from the original dataset.\n",
    "# This feature is retained because its variance (0.24) is higher than the threshold (0.2).\n",
    "# The first and second features are removed because their variances (0.16) are below the threshold."
   ]
  }
 ],
 "metadata": {
  "kernelspec": {
   "display_name": "Python 3 (ipykernel)",
   "language": "python",
   "name": "python3"
  },
  "language_info": {
   "codemirror_mode": {
    "name": "ipython",
    "version": 3
   },
   "file_extension": ".py",
   "mimetype": "text/x-python",
   "name": "python",
   "nbconvert_exporter": "python",
   "pygments_lexer": "ipython3",
   "version": "3.11.5"
  }
 },
 "nbformat": 4,
 "nbformat_minor": 5
}
