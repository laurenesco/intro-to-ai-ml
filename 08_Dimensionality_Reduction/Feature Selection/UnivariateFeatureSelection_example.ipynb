{
 "cells": [
  {
   "cell_type": "code",
   "execution_count": 6,
   "id": "5a1c8f68",
   "metadata": {},
   "outputs": [],
   "source": [
    "# Import SelectKBest for feature selection and chi-squared (chi2) for the scoring function\n",
    "from sklearn.feature_selection import SelectKBest  \n",
    "from sklearn.feature_selection import chi2 "
   ]
  },
  {
   "cell_type": "code",
   "execution_count": 7,
   "id": "fadd28b5",
   "metadata": {},
   "outputs": [
    {
     "name": "stdout",
     "output_type": "stream",
     "text": [
      "(569, 30)\n"
     ]
    }
   ],
   "source": [
    "# Import the breast cancer dataset from scikit-learn datasets\n",
    "from sklearn.datasets import load_breast_cancer\n",
    "\n",
    "# Load the breast cancer dataset\n",
    "data = load_breast_cancer()\n",
    "\n",
    "# Assign the feature matrix to 'X' and the target vector to 'y'\n",
    "X, y = data.data, data.target\n",
    "\n",
    "# Print the shape of the original feature matrix to show it has 30 features\n",
    "print(X.shape)  "
   ]
  },
  {
   "cell_type": "code",
   "execution_count": 9,
   "id": "15be8227",
   "metadata": {},
   "outputs": [
    {
     "name": "stdout",
     "output_type": "stream",
     "text": [
      "(569, 10)\n",
      "Selected Features: ['mean radius' 'mean texture' 'mean perimeter' 'mean area'\n",
      " 'perimeter error' 'area error' 'worst radius' 'worst texture'\n",
      " 'worst perimeter' 'worst area']\n"
     ]
    }
   ],
   "source": [
    "# Initialize SelectKBest with the chi-squared (chi2) test as the scoring function\n",
    "# and set 'k' to 10 to select the 10 best features\n",
    "selector = SelectKBest(chi2, k=10)\n",
    "\n",
    "# Apply the SelectKBest object to the feature matrix and target vector\n",
    "# to select the top 10 features and transform the dataset\n",
    "X_new = selector.fit_transform(X, y)\n",
    "\n",
    "# Show the dimensions of the feature matrix after feature selection\n",
    "# This should output 10 features\n",
    "print(X_new.shape) \n",
    "\n",
    "# Get boolean mask of selected features\n",
    "selected_features_mask = selector.get_support()\n",
    "\n",
    "# Get actual original feature names\n",
    "original_features = data.feature_names \n",
    "\n",
    "# Print the names of the selected features\n",
    "selected_features = original_features[selected_features_mask]\n",
    "print(\"Selected Features:\", selected_features)"
   ]
  }
 ],
 "metadata": {
  "kernelspec": {
   "display_name": "Python 3 (ipykernel)",
   "language": "python",
   "name": "python3"
  },
  "language_info": {
   "codemirror_mode": {
    "name": "ipython",
    "version": 3
   },
   "file_extension": ".py",
   "mimetype": "text/x-python",
   "name": "python",
   "nbconvert_exporter": "python",
   "pygments_lexer": "ipython3",
   "version": "3.11.5"
  }
 },
 "nbformat": 4,
 "nbformat_minor": 5
}
