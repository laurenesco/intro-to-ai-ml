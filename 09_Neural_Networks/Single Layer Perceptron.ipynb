{
 "cells": [
  {
   "cell_type": "code",
   "execution_count": 3,
   "id": "8a028988",
   "metadata": {},
   "outputs": [
    {
     "name": "stdout",
     "output_type": "stream",
     "text": [
      "Perceptron: Accuracy for training is 0.90\n",
      "Perceptron: Accuracy for testing is 0.88\n"
     ]
    }
   ],
   "source": [
    "# Importing necessary libraries from scikit-learn for the dataset, machine learning model, dataset splitting, and performance metrics\n",
    "from sklearn.datasets import fetch_openml  \n",
    "from sklearn.linear_model import Perceptron  \n",
    "from sklearn.model_selection import train_test_split  \n",
    "from sklearn.metrics import accuracy_score \n",
    "\n",
    "# Fetching the MNIST dataset from OpenML, which is a collection of 28x28 pixel images of handwritten digits\n",
    "X, y = fetch_openml(\"mnist_784\", version=1, return_X_y=True, parser='auto')\n",
    "\n",
    "# Splitting the dataset into training and testing sets, normalizing the pixel values by dividing by 255 (max pixel value), with 20% data as test set\n",
    "X_train, X_test, y_train, y_test = train_test_split(X/255., y, test_size=0.20, random_state=1) \n",
    "\n",
    "# Initializing the Perceptron model with a specified random state for reproducibility, a maximum of 50 iterations, and a stopping tolerance of 0.005\n",
    "perceptron = Perceptron(random_state=1, max_iter=50, tol=0.005)\n",
    "\n",
    "# Training the Perceptron model with the training data\n",
    "perceptron.fit(X_train, y_train) \n",
    "\n",
    "# Predicting the labels for both the training and testing datasets using the trained Perceptron\n",
    "yhat_train_perceptron = perceptron.predict(X_train)  \n",
    "yhat_test_perceptron = perceptron.predict(X_test) \n",
    "\n",
    "# Calculating and printing the accuracy of the Perceptron on the training data by comparing the true labels with the predicted labels\n",
    "print(\"Perceptron: Accuracy for training is %.2f\" % (accuracy_score(y_train, yhat_train_perceptron)))\n",
    "\n",
    "# Calculating and printing the accuracy of the Perceptron on the testing data, which is an indicator of the model's ability to generalize to new data\n",
    "print(\"Perceptron: Accuracy for testing is %.2f\" % (accuracy_score(y_test, yhat_test_perceptron))) "
   ]
  },
  {
   "cell_type": "code",
   "execution_count": null,
   "id": "a0dffdc3",
   "metadata": {},
   "outputs": [],
   "source": []
  }
 ],
 "metadata": {
  "kernelspec": {
   "display_name": "Python 3 (ipykernel)",
   "language": "python",
   "name": "python3"
  },
  "language_info": {
   "codemirror_mode": {
    "name": "ipython",
    "version": 3
   },
   "file_extension": ".py",
   "mimetype": "text/x-python",
   "name": "python",
   "nbconvert_exporter": "python",
   "pygments_lexer": "ipython3",
   "version": "3.11.5"
  }
 },
 "nbformat": 4,
 "nbformat_minor": 5
}
