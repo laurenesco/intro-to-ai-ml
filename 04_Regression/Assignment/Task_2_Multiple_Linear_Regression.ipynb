{
 "cells": [
  {
   "cell_type": "code",
   "execution_count": null,
   "id": "25cdea45",
   "metadata": {},
   "outputs": [],
   "source": [
    "# Considering the All Greens Franchise dataset contains 30 observations about All Greens sales.  \n",
    "# It has six predictor variables (X1 to X6). As follows the specification of the dataset:\n",
    "\n",
    "#     X1 = annual net sales/$1000\n",
    "#     X2 = number sq. ft./1000\n",
    "#     X3 = inventory/$1000\n",
    "#     X4 = amount spent on advertizing/$1000\n",
    "#     X5 = size of sales district/1000 families\n",
    "#     X6 = number of competing stores in the area\n",
    "\n",
    "# Use this dataset to:\n",
    "\n",
    "#     determine correlation of annual net sales [X1] with money spent on advertising [X4] and number of\n",
    "#     competitors in the area [X6]; visualize the above correlation in a scatterplot; and  \n",
    "#     build a regression model to predict the annual net sales figure using the other five columns \n",
    "#     in the dataset."
   ]
  },
  {
   "cell_type": "code",
   "execution_count": 40,
   "id": "8dfc9cc3",
   "metadata": {},
   "outputs": [
    {
     "name": "stdout",
     "output_type": "stream",
     "text": [
      "Correlation coefficient between 'X1' and 'X4': 0.9140240746000747\n",
      "Correlation coefficient between 'X1' and 'X6': -0.9122363921094575\n"
     ]
    }
   ],
   "source": [
    "import numpy as np\n",
    "import pandas as pd\n",
    "import matplotlib.pyplot as plt\n",
    "import statsmodels.api as sm\n",
    "\n",
    "df = pd.read_csv('mlr05.csv')\n",
    "\n",
    "# Determine correlation of annual net sales [X1] with money spent on advertising [X4] \n",
    "# and number of competitors in the area [X6];\n",
    "print(\"Correlation coefficient between 'X1' and 'X4':\", \n",
    "      np.corrcoef(df.X1, df.X4)[0, 1])\n",
    "print(\"Correlation coefficient between 'X1' and 'X6':\", \n",
    "      np.corrcoef(df.X1, df.X6)[0, 1])"
   ]
  },
  {
   "cell_type": "code",
   "execution_count": 2,
   "id": "8e734c27",
   "metadata": {},
   "outputs": [
    {
     "ename": "NameError",
     "evalue": "name 'plt' is not defined",
     "output_type": "error",
     "traceback": [
      "\u001b[1;31m---------------------------------------------------------------------------\u001b[0m",
      "\u001b[1;31mNameError\u001b[0m                                 Traceback (most recent call last)",
      "Cell \u001b[1;32mIn[2], line 2\u001b[0m\n\u001b[0;32m      1\u001b[0m \u001b[38;5;66;03m# visualize the above correlation in a scatterplot;\u001b[39;00m\n\u001b[1;32m----> 2\u001b[0m plt\u001b[38;5;241m.\u001b[39mfigure(\u001b[38;5;241m1\u001b[39m)\n\u001b[0;32m      3\u001b[0m plt\u001b[38;5;241m.\u001b[39mscatter(df\u001b[38;5;241m.\u001b[39mX1, df\u001b[38;5;241m.\u001b[39mX4)\n\u001b[0;32m      4\u001b[0m plt\u001b[38;5;241m.\u001b[39mscatter(df\u001b[38;5;241m.\u001b[39mX1, df\u001b[38;5;241m.\u001b[39mX6)\n",
      "\u001b[1;31mNameError\u001b[0m: name 'plt' is not defined"
     ]
    }
   ],
   "source": [
    "# visualize the above correlation in a scatterplot;\n",
    "plt.figure(1)\n",
    "plt.scatter(df.X1, df.X4)\n",
    "plt.scatter(df.X1, df.X6)"
   ]
  },
  {
   "cell_type": "code",
   "execution_count": 50,
   "id": "3d38162d",
   "metadata": {},
   "outputs": [
    {
     "name": "stdout",
     "output_type": "stream",
     "text": [
      "                            OLS Regression Results                            \n",
      "==============================================================================\n",
      "Dep. Variable:                     X1   R-squared:                       0.993\n",
      "Model:                            OLS   Adj. R-squared:                  0.992\n",
      "Method:                 Least Squares   F-statistic:                     611.6\n",
      "Date:                Sat, 10 Feb 2024   Prob (F-statistic):           5.40e-22\n",
      "Time:                        21:22:04   Log-Likelihood:                -112.43\n",
      "No. Observations:                  27   AIC:                             236.9\n",
      "Df Residuals:                      21   BIC:                             244.6\n",
      "Df Model:                           5                                         \n",
      "Covariance Type:            nonrobust                                         \n",
      "==============================================================================\n",
      "                 coef    std err          t      P>|t|      [0.025      0.975]\n",
      "------------------------------------------------------------------------------\n",
      "const        -18.8594     30.150     -0.626      0.538     -81.560      43.841\n",
      "X2            16.2016      3.544      4.571      0.000       8.831      23.573\n",
      "X3             0.1746      0.058      3.032      0.006       0.055       0.294\n",
      "X4            11.5263      2.532      4.552      0.000       6.260      16.792\n",
      "X5            13.5803      1.770      7.671      0.000       9.898      17.262\n",
      "X6            -5.3110      1.705     -3.114      0.005      -8.858      -1.764\n",
      "==============================================================================\n",
      "Omnibus:                        5.650   Durbin-Watson:                   1.789\n",
      "Prob(Omnibus):                  0.059   Jarque-Bera (JB):                4.041\n",
      "Skew:                           0.916   Prob(JB):                        0.133\n",
      "Kurtosis:                       3.484   Cond. No.                     3.84e+03\n",
      "==============================================================================\n",
      "\n",
      "Notes:\n",
      "[1] Standard Errors assume that the covariance matrix of the errors is correctly specified.\n",
      "[2] The condition number is large, 3.84e+03. This might indicate that there are\n",
      "strong multicollinearity or other numerical problems.\n"
     ]
    }
   ],
   "source": [
    "# and build a regression model to predict the annual net sales figure using \n",
    "# the other five columns in the dataset.\n",
    "\n",
    "y = df.X1\n",
    "X = df[['X2', 'X3', 'X4', 'X5', 'X6']]\n",
    "X = sm.add_constant(X)\n",
    "\n",
    "lr_model = sm.OLS(y, X).fit()\n",
    "print(lr_model.summary())"
   ]
  }
 ],
 "metadata": {
  "kernelspec": {
   "display_name": "Python 3 (ipykernel)",
   "language": "python",
   "name": "python3"
  },
  "language_info": {
   "codemirror_mode": {
    "name": "ipython",
    "version": 3
   },
   "file_extension": ".py",
   "mimetype": "text/x-python",
   "name": "python",
   "nbconvert_exporter": "python",
   "pygments_lexer": "ipython3",
   "version": "3.11.5"
  }
 },
 "nbformat": 4,
 "nbformat_minor": 5
}
