{
 "cells": [
  {
   "cell_type": "code",
   "execution_count": null,
   "id": "cc113796",
   "metadata": {},
   "outputs": [],
   "source": [
    "# TASK 2: Implement K-Modes Clustering  [20 Minutes]\n",
    "\n",
    "# Task to carry out:  \n",
    "#     Using the data from the following table (10 data points with three \n",
    "#     features or variables) to create two clusters. \n",
    "\n",
    "# Screenshot 2024-02-28 at 2.50.47 PM.png"
   ]
  }
 ],
 "metadata": {
  "kernelspec": {
   "display_name": "Python 3 (ipykernel)",
   "language": "python",
   "name": "python3"
  },
  "language_info": {
   "codemirror_mode": {
    "name": "ipython",
    "version": 3
   },
   "file_extension": ".py",
   "mimetype": "text/x-python",
   "name": "python",
   "nbconvert_exporter": "python",
   "pygments_lexer": "ipython3",
   "version": "3.11.5"
  }
 },
 "nbformat": 4,
 "nbformat_minor": 5
}
