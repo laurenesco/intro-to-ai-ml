{
 "cells": [
  {
   "cell_type": "code",
   "execution_count": null,
   "id": "3484d0b1",
   "metadata": {},
   "outputs": [],
   "source": [
    "# TASK 1: Implement K-Means Clustering  [20 Minutes]\n",
    "\n",
    "# Dataset: \"iris.csv\"\n",
    "\n",
    "# Task to carry out: \n",
    "#     Consider the \"iris.csv\" dataset.  First, load the data and extract the \n",
    "#     first two features. Now, do flat clustering using k-means. You can  decide how many \n",
    "#     clusters are appropriate. For this, you may like to plot the data first and see how it \n",
    "#     is scattered. Show the plot with clusters marked."
   ]
  }
 ],
 "metadata": {
  "kernelspec": {
   "display_name": "Python 3 (ipykernel)",
   "language": "python",
   "name": "python3"
  },
  "language_info": {
   "codemirror_mode": {
    "name": "ipython",
    "version": 3
   },
   "file_extension": ".py",
   "mimetype": "text/x-python",
   "name": "python",
   "nbconvert_exporter": "python",
   "pygments_lexer": "ipython3",
   "version": "3.11.5"
  }
 },
 "nbformat": 4,
 "nbformat_minor": 5
}
