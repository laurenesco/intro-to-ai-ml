{
 "cells": [
  {
   "cell_type": "code",
   "execution_count": null,
   "id": "ad7b5285",
   "metadata": {},
   "outputs": [],
   "source": [
    "# TASK 3: Implement Agglomerative Clustering  [20 Minutes]\n",
    "\n",
    "# Dataset: \"User_knowledge.csv\"\n",
    "\n",
    "# Task to carry out:  \n",
    "#     Consider the dataset \"User_knowledge.csv\", which contains five  \n",
    "#     numeric predictor attributes and one categorical target attribute, \n",
    "#     which is the class label. Use both K-means and agglomerative \n",
    "#     clustering on this dataset. "
   ]
  }
 ],
 "metadata": {
  "kernelspec": {
   "display_name": "Python 3 (ipykernel)",
   "language": "python",
   "name": "python3"
  },
  "language_info": {
   "codemirror_mode": {
    "name": "ipython",
    "version": 3
   },
   "file_extension": ".py",
   "mimetype": "text/x-python",
   "name": "python",
   "nbconvert_exporter": "python",
   "pygments_lexer": "ipython3",
   "version": "3.11.5"
  }
 },
 "nbformat": 4,
 "nbformat_minor": 5
}
