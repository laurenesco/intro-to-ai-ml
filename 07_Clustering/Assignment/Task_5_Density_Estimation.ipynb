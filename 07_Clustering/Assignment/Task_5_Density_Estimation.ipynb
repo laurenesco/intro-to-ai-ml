{
 "cells": [
  {
   "cell_type": "code",
   "execution_count": null,
   "id": "bd1c72a8",
   "metadata": {},
   "outputs": [],
   "source": [
    "# TASK 5: Implement Density Estimation Clustering  [20 Minutes]\n",
    "\n",
    "# Task to carry out: \n",
    "#     Let’s try to cluster and analyze the location of Starbucks \n",
    "#     in the state of Washington. The data we need are:  Starbucks locations: \n",
    "#     www.kaggle.com/starbucks/store-locations  With this data, create \n",
    "#     clustering (density estimation) of Starbucks in Washington.  As a \n",
    "#     bonus challenge,  you can visualize this using the map. For this,\n",
    "#     you would need the following US map data: \n",
    "#     https://github.com/kjhealy/us-county/raw/master/data/geojson/gz_2010_us_040_00_5m.json "
   ]
  }
 ],
 "metadata": {
  "kernelspec": {
   "display_name": "Python 3 (ipykernel)",
   "language": "python",
   "name": "python3"
  },
  "language_info": {
   "codemirror_mode": {
    "name": "ipython",
    "version": 3
   },
   "file_extension": ".py",
   "mimetype": "text/x-python",
   "name": "python",
   "nbconvert_exporter": "python",
   "pygments_lexer": "ipython3",
   "version": "3.11.5"
  }
 },
 "nbformat": 4,
 "nbformat_minor": 5
}
