{
 "cells": [
  {
   "cell_type": "code",
   "execution_count": null,
   "id": "057f1a4b",
   "metadata": {},
   "outputs": [],
   "source": [
    "# TASK 4: Implement EM Clustering  [15 Minutes]\n",
    "\n",
    "# Dataset: \"User_knowledge.csv\"\n",
    "\n",
    "# Task to carry out:  \n",
    "#     Consider the dataset \"User_knowledge.csv\" and use \n",
    "#     the EM algorithm to find the MLE parameters of  the model. Report \n",
    "#     the AIC and BIC values.  "
   ]
  }
 ],
 "metadata": {
  "kernelspec": {
   "display_name": "Python 3 (ipykernel)",
   "language": "python",
   "name": "python3"
  },
  "language_info": {
   "codemirror_mode": {
    "name": "ipython",
    "version": 3
   },
   "file_extension": ".py",
   "mimetype": "text/x-python",
   "name": "python",
   "nbconvert_exporter": "python",
   "pygments_lexer": "ipython3",
   "version": "3.11.5"
  }
 },
 "nbformat": 4,
 "nbformat_minor": 5
}
