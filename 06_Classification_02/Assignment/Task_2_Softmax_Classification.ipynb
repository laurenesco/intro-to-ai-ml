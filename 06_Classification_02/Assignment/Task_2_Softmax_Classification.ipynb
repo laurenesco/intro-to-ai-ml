{
 "cells": [
  {
   "cell_type": "code",
   "execution_count": 4,
   "id": "0f661e07",
   "metadata": {},
   "outputs": [
    {
     "name": "stdout",
     "output_type": "stream",
     "text": [
      "0.8131021194605009\n"
     ]
    }
   ],
   "source": [
    "# Lauren Escobedo\n",
    "\n",
    "# Import necessary libraries for machine learning tasks\n",
    "from sklearn.linear_model import LogisticRegression  # Logistic Regression model, supports multinomial logistic (softmax) regression\n",
    "from sklearn.model_selection import train_test_split  # Function to easily split data into training and testing sets\n",
    "from sklearn.metrics import accuracy_score  # Function to calculate the accuracy of predictions\n",
    "import pandas as pd  # Pandas library for data manipulation and analysis\n",
    "\n",
    "# Documentation on copy_on_write warning message found here:\n",
    "# https://pandas.pydata.org/pandas-docs/stable/user_guide/indexing.html#returning-a-view-versus-a-copy\n",
    "pd.options.mode.copy_on_write = False\n",
    "\n",
    "# Load the dataset\n",
    "car_df = pd.read_csv('car.data', delimiter=',', header=None)\n",
    "car_df.head()\n",
    "\n",
    "X = car_df.drop(columns=[6]) # Features to use in prediction\n",
    "y = car_df[6] # Target variable\n",
    "\n",
    "# Data preprocessing\n",
    "X[0].replace(['low','med','high','vhigh'], [0, 1, 2, 3], inplace=True) # Replace categorical values with numercial ones.\n",
    "X[1].replace(['low','med','high','vhigh'], [0, 1, 2, 3], inplace=True) # Replace categorical values with numercial ones.\n",
    "X[2].replace(['2','3','4','5more'], [0,1,2,3], inplace=True)\n",
    "X[3].replace(['2','4','more'], [0,1,2], inplace=True)\n",
    "X[4].replace(['small','med','big'], [0,1,2], inplace=True)\n",
    "X[5].replace(['low','med','high'], [0,1,2], inplace=True)\n",
    "\n",
    "# Split the dataset into training and testing sets\n",
    "X_train, X_test, y_train, y_test = train_test_split(X, y, test_size=0.30)  # 70% training data, 30% testing data\n",
    "\n",
    "# Model initialization and training\n",
    "logmodel = LogisticRegression(multi_class='multinomial')  # Initialize the Logistic Regression model for multinomial classification\n",
    "logmodel.fit(X_train, y_train)  # Fit the model to the training data\n",
    "\n",
    "# Model evaluation\n",
    "accuracy = accuracy_score(logmodel.predict(X_test), y_test)  # Predict on the test set and calculate accuracy\n",
    "print(accuracy)  # Print the accuracy of the model"
   ]
  }
 ],
 "metadata": {
  "kernelspec": {
   "display_name": "Python 3 (ipykernel)",
   "language": "python",
   "name": "python3"
  },
  "language_info": {
   "codemirror_mode": {
    "name": "ipython",
    "version": 3
   },
   "file_extension": ".py",
   "mimetype": "text/x-python",
   "name": "python",
   "nbconvert_exporter": "python",
   "pygments_lexer": "ipython3",
   "version": "3.11.5"
  }
 },
 "nbformat": 4,
 "nbformat_minor": 5
}
