{
 "cells": [
  {
   "cell_type": "code",
   "execution_count": 3,
   "id": "cf0dad52",
   "metadata": {},
   "outputs": [
    {
     "name": "stdout",
     "output_type": "stream",
     "text": [
      "Results for multinomial distribution assumption:\n",
      "0.625\n",
      "[[1 0 2]\n",
      " [0 0 1]\n",
      " [0 0 4]]\n",
      "Results for Gaussian distribution assumption:\n",
      "0.75\n",
      "[[3 0 0]\n",
      " [0 1 0]\n",
      " [2 0 2]]\n"
     ]
    }
   ],
   "source": [
    "# Lauren Escobedo\n",
    "\n",
    "import pandas as pd\n",
    "from sklearn.naive_bayes import MultinomialNB, GaussianNB\n",
    "from sklearn.model_selection import train_test_split\n",
    "from sklearn.metrics import accuracy_score, confusion_matrix\n",
    "\n",
    "# Load and preprocess the dataset\n",
    "lenses_df = pd.read_csv('lenses.data',delimiter='\\s+', header=None)\n",
    "lenses_df.rename(columns={5 : 'class'}, inplace=True)\n",
    "lenses_df.head()\n",
    "\n",
    "# Prepare the dataset for training/testing\n",
    "X = lenses_df.drop(columns=['class'])  # Define the feature variables\n",
    "y = lenses_df['class']  # Define target variable\n",
    "\n",
    "# Split the dataset into training and testing sets\n",
    "X_train, X_test, y_train, y_test = train_test_split(X, y, test_size=0.3)  # Split data, allocating 70% for training and 30% for testing\n",
    "\n",
    "# Model training and evaluation using Multinomial Naive Bayes\n",
    "nb_multi = MultinomialNB()  # Initialize the Multinomial Naive Bayes classifier\n",
    "nb_multi.fit(X, y)  # Train the classifier using the entire dataset (X, y)\n",
    "\n",
    "# Model training and evaluation using Gaussian Naive Bayes\n",
    "nb_gauss = GaussianNB()  # Initialize the Gaussian Naive Bayes classifier\n",
    "nb_gauss.fit(X, y)  # Train the classifier using the entire dataset (X, y)\n",
    "\n",
    "# Predictions and performance evaluation for Multinomial Naive Bayes\n",
    "multi_preds = nb_multi.predict(X_test)  # Predict the target variable for the test set using Multinomial Naive Bayes\n",
    "print(\"Results for multinomial distribution assumption:\")  # Print results header for Multinomial Naive Bayes\n",
    "print(accuracy_score(y_test, multi_preds))  # Calculate and print the accuracy of the Multinomial Naive Bayes model\n",
    "print(confusion_matrix(y_test, multi_preds))  # Calculate and print the confusion matrix to evaluate model performance\n",
    "\n",
    "# Predictions and performance evaluation for Gaussian Naive Bayes\n",
    "gauss_preds = nb_gauss.predict(X_test)  # Predict the target variable for the test set using Gaussian Naive Bayes\n",
    "print(\"Results for Gaussian distribution assumption:\")  # Print results header for Gaussian Naive Bayes\n",
    "print(accuracy_score(y_test, gauss_preds))  # Calculate and print the accuracy of the Gaussian Naive Bayes model\n",
    "print(confusion_matrix(y_test, gauss_preds))  # Calculate and print the confusion matrix to evaluate model performance"
   ]
  }
 ],
 "metadata": {
  "kernelspec": {
   "display_name": "Python 3 (ipykernel)",
   "language": "python",
   "name": "python3"
  },
  "language_info": {
   "codemirror_mode": {
    "name": "ipython",
    "version": 3
   },
   "file_extension": ".py",
   "mimetype": "text/x-python",
   "name": "python",
   "nbconvert_exporter": "python",
   "pygments_lexer": "ipython3",
   "version": "3.11.5"
  }
 },
 "nbformat": 4,
 "nbformat_minor": 5
}
