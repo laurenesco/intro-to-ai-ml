{
 "cells": [
  {
   "cell_type": "code",
   "execution_count": null,
   "id": "ca2557b8",
   "metadata": {},
   "outputs": [],
   "source": [
    "# The Iris flower dataset, or Fisher’s Iris dataset (built into Python or \n",
    "# downloadable from OA  6.13), is a multivariate dataset introduced by the \n",
    "# British statistician and biologist Ronald  Fisher in his 1936 paper. The \n",
    "# use of multiple measurements in taxonomic problems is an  example of linear\n",
    "# discriminant analysis. \n",
    "#\n",
    "# The dataset consists of 50 samples from each of  \n",
    "# three species of Iris (Iris setosa, Iris virginica, and Iris versicolor). \n",
    "# Four features were  measured from each sample: the length and width of the \n",
    "# sepals and petals, in centimeters. \n",
    "#\n",
    "# Based on the combination of these four features, create a prediction model \n",
    "# using softmax  regression for the species of Iris. "
   ]
  },
  {
   "cell_type": "code",
   "execution_count": 26,
   "id": "0a2cf6f2",
   "metadata": {},
   "outputs": [],
   "source": [
    "from sklearn.linear_model import LogisticRegression  \n",
    "from sklearn.model_selection import train_test_split \n",
    "from sklearn.metrics import accuracy_score  \n",
    "import pandas as pd \n",
    "\n",
    "# Import and print dataset for evaluation and preparation of data\n",
    "df = pd.read_csv(\"../Datasets/Code_and_Data_(Chapter_06)/Code and Data (Chapter 06)/Iris.csv\", index_col=\"Id\")\n",
    "# print (df)\n",
    "\n",
    "# Encode string values categorically with a numeric label\n",
    "df['Species'].replace(['Iris-setosa','Iris-virginica', 'Iris-versicolor'], [0, 1, 2], inplace=True)\n",
    "\n",
    "X = df.drop(columns=['Species'])\n",
    "y = df.Species\n",
    "\n",
    "X_train, X_test, y_train, y_test = train_test_split(X, y, test_size=0.30)"
   ]
  },
  {
   "cell_type": "code",
   "execution_count": 28,
   "id": "ac710349",
   "metadata": {},
   "outputs": [
    {
     "name": "stdout",
     "output_type": "stream",
     "text": [
      "0.9777777777777777\n"
     ]
    }
   ],
   "source": [
    "# Build the softmax model, train it, and evaluate the results\n",
    "logmodel = LogisticRegression(multi_class='multinomial') \n",
    "logmodel.fit(X_train, y_train) \n",
    "\n",
    "# Model evaluation\n",
    "accuracy = accuracy_score(logmodel.predict(X_test), y_test)\n",
    "print(accuracy)  "
   ]
  }
 ],
 "metadata": {
  "kernelspec": {
   "display_name": "Python 3 (ipykernel)",
   "language": "python",
   "name": "python3"
  },
  "language_info": {
   "codemirror_mode": {
    "name": "ipython",
    "version": 3
   },
   "file_extension": ".py",
   "mimetype": "text/x-python",
   "name": "python",
   "nbconvert_exporter": "python",
   "pygments_lexer": "ipython3",
   "version": "3.11.5"
  }
 },
 "nbformat": 4,
 "nbformat_minor": 5
}
