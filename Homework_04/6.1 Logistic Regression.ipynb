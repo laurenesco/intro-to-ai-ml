{
 "cells": [
  {
   "cell_type": "code",
   "execution_count": 13,
   "id": "845cb149",
   "metadata": {},
   "outputs": [],
   "source": [
    "# Download crash.csv from OA 6.10, which is an auto-accident dataset portal \n",
    "# for the USA  hosted by data.gov (crash data for individual states can be \n",
    "# searched). \n",
    "#\n",
    "# The data contains  passengers’ (not necessarily the driver’s) \n",
    "# age (in years) and the speed of the vehicle (mph)  at the time of impact, \n",
    "# as well as the fate of the passengers (1 represents survived, 0 represents \n",
    "# did not survive) after the crash. \n",
    "#\n",
    "# Use logistic regression to decide if the age and speed can predict the \n",
    "# survivability of the passenger. "
   ]
  },
  {
   "cell_type": "code",
   "execution_count": 17,
   "id": "4b18db01",
   "metadata": {},
   "outputs": [
    {
     "name": "stdout",
     "output_type": "stream",
     "text": [
      "             Age  Speed  Survived\n",
      "PassengerId                      \n",
      "1             22     65         0\n",
      "2             38     50         1\n",
      "3             26     45         1\n",
      "4             35     55         1\n",
      "5             35     85         0\n",
      "6             26    117         0\n",
      "7             54     68         0\n",
      "8             12     72         0\n",
      "9             27     46         1\n",
      "10            32     71         1\n",
      "11            43     56         1\n",
      "12            58     32         1\n",
      "13            27     96         0\n",
      "14            29     79         0\n",
      "15            21     63         0\n",
      "16            55     26         1\n",
      "17             2     47         0\n",
      "18            39     35         1\n",
      "19            31     83         0\n",
      "20             7     61         1\n"
     ]
    }
   ],
   "source": [
    "import pandas as pd\n",
    "import statsmodels.api as sm\n",
    "from sklearn.model_selection import train_test_split  \n",
    "from sklearn.metrics import accuracy_score, confusion_matrix\n",
    "from sklearn.metrics import roc_curve, roc_auc_score  \n",
    "import matplotlib.pyplot as plt\n",
    "\n",
    "# Import and print dataset for evaluation and preparation of data\n",
    "df = pd.read_csv(\"../Datasets/Code_and_Data_(Chapter_06)/Code and Data (Chapter 06)/crash.csv\", index_col=\"PassengerId\")\n",
    "# print (df)\n",
    "\n",
    "X = df.drop(columns=['Survived'])\n",
    "y = df.Survived\n",
    "\n",
    "X_train, X_test, y_train, y_test = train_test_split(X, y, test_size=0.30)"
   ]
  },
  {
   "cell_type": "code",
   "execution_count": 15,
   "id": "71e95817",
   "metadata": {},
   "outputs": [
    {
     "name": "stdout",
     "output_type": "stream",
     "text": [
      "                           Logit Regression Results                           \n",
      "==============================================================================\n",
      "Dep. Variable:               Survived   No. Observations:                   14\n",
      "Model:                          Logit   Df Residuals:                       11\n",
      "Method:                           MLE   Df Model:                            2\n",
      "Date:                Thu, 14 Mar 2024   Pseudo R-squ.:                  0.6352\n",
      "Time:                        15:12:16   Log-Likelihood:                -3.5403\n",
      "converged:                       True   LL-Null:                       -9.7041\n",
      "Covariance Type:            nonrobust   LLR p-value:                  0.002104\n",
      "==============================================================================\n",
      "                 coef    std err          z      P>|z|      [0.025      0.975]\n",
      "------------------------------------------------------------------------------\n",
      "const         11.5798      8.106      1.429      0.153      -4.308      27.468\n",
      "Age            0.0362      0.114      0.319      0.750      -0.187       0.259\n",
      "Speed         -0.1913      0.135     -1.419      0.156      -0.455       0.073\n",
      "==============================================================================\n",
      "Accuracy Score: 0.6666666666666666\n",
      "Confusion Matrix:\n",
      " [[1 2]\n",
      " [0 3]]\n"
     ]
    }
   ],
   "source": [
    "# Create the LR model, train it, and make some predictions\n",
    "logmodel = sm.Logit(y_train, sm.add_constant(X_train)).fit(disp=False)  \n",
    "print(logmodel.summary())\n",
    "\n",
    "# Evaluate the models performance\n",
    "predictions = logmodel.predict(sm.add_constant(X_test)) \n",
    "binary_outcomes = [1 if x >= 0.5 else 0 for x in predictions] \n",
    "\n",
    "# Calculate and print accuracy and confusion matrix to evaluate model performance\n",
    "print(\"Accuracy Score:\", accuracy_score(y_test, binary_outcomes))\n",
    "print(\"Confusion Matrix:\\n\", confusion_matrix(y_test, binary_outcomes))"
   ]
  },
  {
   "cell_type": "code",
   "execution_count": 16,
   "id": "daf4def4",
   "metadata": {},
   "outputs": [
    {
     "data": {
      "image/png": "[encoded data removed]",
      "text/plain": [
       "<Figure size 800x600 with 1 Axes>"
      ]
     },
     "metadata": {},
     "output_type": "display_data"
    }
   ],
   "source": [
    "# Further investigate the models capabilites on discerning between classes\n",
    "fpr, tpr, thresholds = roc_curve(y_test, predictions)  # Calculate False Positive Rate, True Positive Rate, and thresholds\n",
    "roc_auc = roc_auc_score(y_test, predictions)  # Calculate the Area Under the Curve (AUC) for ROC\n",
    "\n",
    "# Plotting ROC curve\n",
    "plt.figure(figsize=(8, 6)) \n",
    "plt.plot(fpr, tpr, label=f'ROC Curve (area = {roc_auc:.3f})') \n",
    "plt.title('Survival') \n",
    "plt.xlabel('False Positive Rate')  \n",
    "plt.ylabel('True Positive Rate')  \n",
    "plt.legend(loc=\"lower right\")  \n",
    "plt.show() "
   ]
  }
 ],
 "metadata": {
  "kernelspec": {
   "display_name": "Python 3 (ipykernel)",
   "language": "python",
   "name": "python3"
  },
  "language_info": {
   "codemirror_mode": {
    "name": "ipython",
    "version": 3
   },
   "file_extension": ".py",
   "mimetype": "text/x-python",
   "name": "python",
   "nbconvert_exporter": "python",
   "pygments_lexer": "ipython3",
   "version": "3.11.5"
  }
 },
 "nbformat": 4,
 "nbformat_minor": 5
}
