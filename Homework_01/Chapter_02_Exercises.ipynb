{
 "cells": [
  {
   "cell_type": "code",
   "execution_count": 30,
   "id": "02375430",
   "metadata": {},
   "outputs": [
    {
     "name": "stdout",
     "output_type": "stream",
     "text": [
      "32\n",
      "Not high schooler\n"
     ]
    }
   ],
   "source": [
    "\"\"\"\n",
    "\n",
    "2.1\n",
    "\n",
    "Write a python script that assigns a value to the variable AGE and uses that information about a person to determine \n",
    "if they are in high school. Assume that for one to be in high school their age should be between 14 and 18. You do \n",
    "not have to write complicated code, simple and logical code is enought.\n",
    "\n",
    "\"\"\"\n",
    "\n",
    "import random \n",
    "\n",
    "age = random.randrange(1,99)\n",
    "\n",
    "if (age >= 14 and age <= 18):\n",
    "    print(\"High schooler\")\n",
    "else:\n",
    "    print(\"Not high schooler\")\n"
   ]
  },
  {
   "cell_type": "code",
   "execution_count": 1,
   "id": "bdc965bd",
   "metadata": {},
   "outputs": [
    {
     "name": "stdout",
     "output_type": "stream",
     "text": [
      "25 degrees Celsius is equal to 77.00 degrees Fahrenheit.\n"
     ]
    }
   ],
   "source": [
    "\"\"\"\n",
    "\n",
    "2.5\n",
    "\n",
    "You are used to understanding temperature in Fahrenheit in the U.S., but you are on vacation in France, where they\n",
    "use Celsius. Write a function that converts Celsius to Fahrenheit. It will take one argument and return one value.\n",
    "From the main part of the program, call that function and show your conversion \n",
    "\n",
    "\"\"\"\n",
    "\n",
    "def celsiusToFahrenheit(temp):\n",
    "    \n",
    "    fahrenheit = (temp * 9/5) + 32\n",
    "    return fahrenheit\n",
    "\n",
    "celsius = 25\n",
    "fahrenheit = celsiusToFahrenheit(celsius)\n",
    "print(f\"{celsius} degrees Celsius is equal to {fahrenheit:.2f} degrees Fahrenheit.\")\n"
   ]
  },
  {
   "cell_type": "code",
   "execution_count": 7,
   "id": "ee81f420",
   "metadata": {},
   "outputs": [
    {
     "name": "stdout",
     "output_type": "stream",
     "text": [
      "How many items? 5\n",
      "Enter an item: a\n",
      "Enter an item: b\n",
      "Enter an item: c\n",
      "Enter an item: d\n",
      "Enter an item: e\n",
      "a\n",
      "b\n",
      "c\n",
      "d\n",
      "e\n"
     ]
    }
   ],
   "source": [
    "\"\"\"\n",
    "\n",
    "2.7\n",
    "\n",
    "You are part of a team that is building a catalogue for an online retailer. This is a complex project and several \n",
    "people are working on separate parts of it. Your part involves writing a module in Python that interacts with \n",
    "suppliers to get their inventory into your database. There are three parts:\n",
    "\n",
    "    1. Getting the initial input from the supplier. Ask them how many items they want to input. This can be done \n",
    "       using the input function in Python. For example, you can have the following line in your code:\n",
    "           \n",
    "            n = input(\"Enter a number: \")\n",
    "            \n",
    "        This will wait for the user to enter something. Whatever they enter will be stored in the variable n.\n",
    "        \n",
    "    2. Now initalize a list that is empty at first. Then execute a loop that runs n times, each time asking the\n",
    "       supplier to enter an item (a string). So, if the supplier had answered \"5\" for the previous question, the \n",
    "       loop would run five times. Each time the supplier enters the name of an item, add it to the list.\n",
    "       \n",
    "    3. Print the entire list to the supplier for confirmation.\n",
    "\n",
    "\"\"\"\n",
    "\n",
    "itemCount = input(\"How many items? \")\n",
    "items = []\n",
    "i = 1\n",
    "\n",
    "while i <= int(itemCount):\n",
    "    newItem = input(\"Enter an item: \")\n",
    "    items.append(newItem)\n",
    "    i = i+1\n",
    "    \n",
    "i = 0\n",
    "while i <= len(items)-1:\n",
    "    print(items[i])\n",
    "    i = i+1"
   ]
  }
 ],
 "metadata": {
  "kernelspec": {
   "display_name": "Python 3 (ipykernel)",
   "language": "python",
   "name": "python3"
  },
  "language_info": {
   "codemirror_mode": {
    "name": "ipython",
    "version": 3
   },
   "file_extension": ".py",
   "mimetype": "text/x-python",
   "name": "python",
   "nbconvert_exporter": "python",
   "pygments_lexer": "ipython3",
   "version": "3.11.5"
  }
 },
 "nbformat": 4,
 "nbformat_minor": 5
}
