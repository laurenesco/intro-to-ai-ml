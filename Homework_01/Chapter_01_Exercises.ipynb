{
 "cells": [
  {
   "cell_type": "code",
   "execution_count": null,
   "id": "f9841bc2",
   "metadata": {},
   "outputs": [],
   "source": [
    "\"\"\" \n",
    "\n",
    "1.1\n",
    "\n",
    "In Table 1.3, heights for 12 different groups of people and their average weights are provided. \n",
    "Using this data, what would be your guesses for weight for those who are 60 inches and 73 inches tall?\n",
    "How about someone who measures 65.5 or 68.5 inches?\n",
    "\n",
    "Describe your process for making these guesses or deriving the weights for these people for whom we do \n",
    "not have the data. Can you relate this to the idea of regression that we talked about in this chapter?\n",
    "\n",
    "\"\"\"\n",
    "\n",
    "''' --------------------------------------------------------------------------------------------------- '''\n",
    "\n",
    "\"\"\"\n",
    "\n",
    "Answers:\n",
    "\n",
    "    My guess for those who are 60 inches tall is 120 lbs, and for those who are 73 inches tall is 182 lbs. Similarly, \n",
    "    for those who are 65.5 inches tall, 158 lbs, and for those who are 68.5 inches tall, 168 lbs.\n",
    "    \n",
    "    My process for deriving these guesses involves analyzing the pattern of the data, how fast it increases\n",
    "    or decreases per unit on average, and then drawing an estimation from the surrounding data.\n",
    "    \n",
    "    This relates to regression as the chapter mentioned it because the chapter states that the problem is \n",
    "    regression if the response variable is continuous. This applies since the height and weight are continuous.\n",
    "\n",
    "\"\"\""
   ]
  },
  {
   "cell_type": "code",
   "execution_count": null,
   "id": "de019919",
   "metadata": {},
   "outputs": [],
   "source": [
    "\"\"\"\n",
    "\n",
    "1.2\n",
    "\n",
    "Imagine you see yourself as the next Harland Sanders (founder of KFC) and want to learn about the poultry business \n",
    "at a much earlier age then Sanders did. You want to figure out what kind of feed can help grow healthier chickens.\n",
    "Table 1.4 presents a dataser that might help. The dataset is sourced from OA 1.1.\n",
    "\n",
    "Based on this dataset, which type of chicken feed appears the most beneficial for a thriving poultry business?\n",
    "For this exercise, let's assume that the bigger the chicken (weight), the better.\n",
    "\n",
    "\"\"\"\n",
    "\n",
    "''' --------------------------------------------------------------------------------------------------- '''\n",
    "\n",
    "\"\"\"\n",
    "\n",
    "Answer:\n",
    "\n",
    "    The feed most beneficial to a thriving poultry business, based on weight of chicken, is casein. This \n",
    "    feed has a higher average weight than the rest.\n",
    "\n",
    "\"\"\""
   ]
  },
  {
   "cell_type": "code",
   "execution_count": null,
   "id": "dbd4d14b",
   "metadata": {},
   "outputs": [],
   "source": [
    "\"\"\"\n",
    "\n",
    "1.3\n",
    "\n",
    "Table 1.5 presents an imaginary dataset of auto-insurance providers and thier ratings as provided by the last three\n",
    "customers. If you had to choose an auto-insurance provider based on these ratings, which one would you opt for? Why?\n",
    "\n",
    "\"\"\"\n",
    "\n",
    "''' --------------------------------------------------------------------------------------------------- '''\n",
    "\n",
    "\"\"\"\n",
    "\n",
    "Answer:\n",
    "\n",
    "    If I were to choose an auto-insurance provider based on the data provided, I would choose Progressive,\n",
    "    as they have the highest average rating of the three companies.\n",
    "\n",
    "\"\"\""
   ]
  }
 ],
 "metadata": {
  "kernelspec": {
   "display_name": "Python 3 (ipykernel)",
   "language": "python",
   "name": "python3"
  },
  "language_info": {
   "codemirror_mode": {
    "name": "ipython",
    "version": 3
   },
   "file_extension": ".py",
   "mimetype": "text/x-python",
   "name": "python",
   "nbconvert_exporter": "python",
   "pygments_lexer": "ipython3",
   "version": "3.11.5"
  }
 },
 "nbformat": 4,
 "nbformat_minor": 5
}
