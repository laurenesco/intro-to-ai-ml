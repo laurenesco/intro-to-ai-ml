{
 "cells": [
  {
   "cell_type": "code",
   "execution_count": 1,
   "id": "25057b42",
   "metadata": {},
   "outputs": [],
   "source": [
    "# Import required libraries\n",
    "import pandas as pd  # Used for data manipulation and analysis\n",
    "import statsmodels.api as sm  # Provides classes and functions for the estimation of many different statistical models\n",
    "from sklearn.model_selection import train_test_split  # Function to split arrays or matrices into random train and test subsets\n",
    "from sklearn.metrics import accuracy_score, confusion_matrix  # Import accuracy measurement and confusion matrix calculation functions\n",
    "from sklearn.metrics import roc_curve, roc_auc_score  # Import functions for Receiver Operating Characteristic (ROC) curve and Area Under the Curve (AUC) score\n",
    "import matplotlib.pyplot as plt  # For generating plots"
   ]
  },
  {
   "cell_type": "code",
   "execution_count": 2,
   "id": "a0d0feb7",
   "metadata": {},
   "outputs": [],
   "source": [
    "# Load and prepare the dataset\n",
    "t_df = pd.read_csv('titanic_data.csv', index_col='PassengerId')  # Load the Titanic dataset, setting 'PassengerId' as the index\n",
    "t_df.dropna(inplace=True)  # Remove rows with any missing values to ensure data integrity for modeling"
   ]
  },
  {
   "cell_type": "code",
   "execution_count": 3,
   "id": "ab12bb37",
   "metadata": {},
   "outputs": [],
   "source": [
    "# Data preprocessing\n",
    "t_df.drop(columns=['Name', 'Cabin', 'Ticket'], inplace=True)  # Remove columns that are not needed for prediction to simplify the model\n",
    "\n",
    "# Convert categorical variables into numerical format for model compatibility\n",
    "t_df['Sex'].replace(['male', 'female'], [1, 0], inplace=True)  # Convert 'Sex' into binary variables (male=1, female=0)\n",
    "t_df['Embarked'].replace(['S', 'C', 'Q'], [0, 1, 2], inplace=True)  # Map 'Embarked' ports to numerical values for model processing"
   ]
  },
  {
   "cell_type": "code",
   "execution_count": 4,
   "id": "ff05e1c0",
   "metadata": {},
   "outputs": [],
   "source": [
    "# Feature selection and dataset splitting\n",
    "X = t_df.drop(columns=['Survived'])  # Define feature variables (independent variables)\n",
    "y = t_df['Survived']  # Define the target variable (dependent variable)\n",
    "X_train, X_test, y_train, y_test = train_test_split(X, y, test_size=0.30)  # Split data into 70% training and 30% testing sets"
   ]
  },
  {
   "cell_type": "code",
   "execution_count": 5,
   "id": "820adf65",
   "metadata": {},
   "outputs": [
    {
     "name": "stdout",
     "output_type": "stream",
     "text": [
      "                           Logit Regression Results                           \n",
      "==============================================================================\n",
      "Dep. Variable:               Survived   No. Observations:                  128\n",
      "Model:                          Logit   Df Residuals:                      120\n",
      "Method:                           MLE   Df Model:                            7\n",
      "Date:                Fri, 23 Feb 2024   Pseudo R-squ.:                  0.3424\n",
      "Time:                        22:49:49   Log-Likelihood:                -53.270\n",
      "converged:                       True   LL-Null:                       -81.004\n",
      "Covariance Type:            nonrobust   LLR p-value:                 1.204e-09\n",
      "==============================================================================\n",
      "                 coef    std err          z      P>|z|      [0.025      0.975]\n",
      "------------------------------------------------------------------------------\n",
      "const          5.7926      1.573      3.684      0.000       2.710       8.875\n",
      "Pclass        -0.6465      0.522     -1.239      0.215      -1.669       0.376\n",
      "Sex           -2.9161      0.600     -4.860      0.000      -4.092      -1.740\n",
      "Age           -0.0670      0.021     -3.248      0.001      -0.107      -0.027\n",
      "SibSp         -0.0697      0.405     -0.172      0.863      -0.863       0.723\n",
      "Parch         -0.7310      0.436     -1.677      0.093      -1.585       0.123\n",
      "Fare           0.0044      0.004      1.052      0.293      -0.004       0.013\n",
      "Embarked       0.2466      0.507      0.487      0.626      -0.746       1.239\n",
      "==============================================================================\n"
     ]
    }
   ],
   "source": [
    "# Model fitting\n",
    "logmodel = sm.Logit(y_train, sm.add_constant(X_train)).fit(disp=False)  # Fit a logistic regression model using the training set\n",
    "print(logmodel.summary())  # Display the summary statistics of the logistic regression model"
   ]
  },
  {
   "cell_type": "code",
   "execution_count": 6,
   "id": "ec89a1c4",
   "metadata": {},
   "outputs": [],
   "source": [
    "# Predictions and model evaluation\n",
    "predictions = logmodel.predict(sm.add_constant(X_test))  # Predict survival using the test set\n",
    "bin_predictions = [1 if x >= 0.5 else 0 for x in predictions]  # Convert probabilities to binary outcomes based on a threshold of 0.5"
   ]
  },
  {
   "cell_type": "code",
   "execution_count": 7,
   "id": "bc8db187",
   "metadata": {},
   "outputs": [
    {
     "name": "stdout",
     "output_type": "stream",
     "text": [
      "Accuracy Score: 0.7272727272727273\n",
      "Confusion Matrix:\n",
      " [[12  6]\n",
      " [ 9 28]]\n"
     ]
    }
   ],
   "source": [
    "# Calculate and print accuracy and confusion matrix to evaluate model performance\n",
    "print(\"Accuracy Score:\", accuracy_score(y_test, bin_predictions))\n",
    "print(\"Confusion Matrix:\\n\", confusion_matrix(y_test, bin_predictions))"
   ]
  },
  {
   "cell_type": "code",
   "execution_count": 8,
   "id": "c9d46aaf",
   "metadata": {},
   "outputs": [],
   "source": [
    "# Calculate and plot ROC curve and AUC score to evaluate the model's ability to distinguish between classes\n",
    "fpr, tpr, thresholds = roc_curve(y_test, predictions)  # Calculate False Positive Rate, True Positive Rate, and thresholds\n",
    "roc_auc = roc_auc_score(y_test, predictions)  # Calculate the Area Under the Curve (AUC) for ROC"
   ]
  },
  {
   "cell_type": "code",
   "execution_count": 9,
   "id": "1c7be2f2",
   "metadata": {
    "scrolled": true
   },
   "outputs": [
    {
     "data": {
      "image/png": "[encoded data removed]",
      "text/plain": [
       "<Figure size 800x600 with 1 Axes>"
      ]
     },
     "metadata": {},
     "output_type": "display_data"
    }
   ],
   "source": [
    "# Plotting ROC curve\n",
    "plt.figure(figsize=(8, 6))  # Set figure size\n",
    "plt.plot(fpr, tpr, label=f'ROC Curve (area = {roc_auc:.3f})')  # Plot the ROC curve\n",
    "plt.title('Receiver Operating Characteristic')  # Title of the plot\n",
    "plt.xlabel('False Positive Rate')  # X-axis label\n",
    "plt.ylabel('True Positive Rate')  # Y-axis label\n",
    "plt.legend(loc=\"lower right\")  # Position the legend\n",
    "plt.show()  # Display the plot"
   ]
  },
  {
   "cell_type": "code",
   "execution_count": 10,
   "id": "86233b43",
   "metadata": {},
   "outputs": [],
   "source": [
    "# Plotting the ROC curve is useful for evaluating the model's diagnostic ability. It shows the trade-off between the True Positive Rate (sensitivity)\n",
    "# and False Positive Rate (1-specificity) at various threshold settings. The AUC (Area Under the Curve) quantifies the overall ability of the model\n",
    "# to distinguish between the positive and negative classes irrespective of the threshold. A higher AUC indicates a better model performance.\n",
    "# Specifically, it helps in identifying the right balance between catching as many true positives as possible while minimizing false positives,\n",
    "# which is crucial in scenarios where the costs of false negatives and false positives are significantly different."
   ]
  },
  {
   "cell_type": "code",
   "execution_count": 11,
   "id": "69d657df",
   "metadata": {},
   "outputs": [],
   "source": [
    "# An AUC (Area Under the ROC Curve) of 0.754 (like in this example) suggests that the logistic regression model has a good\n",
    "# ability to distinguish between passengers who survived and those who did not. It means there's approximately a 75.4% chance that the model will\n",
    "# correctly differentiate between a random pair of positive (survived) and negative (not survived) instances. While not perfect, an AUC closer to 1\n",
    "# indicates strong predictive performance, and an AUC of 0.754 is considered acceptable, showing the model has a reasonable degree of discrimination\n",
    "# between positive and negative outcomes in the context of the Titanic dataset.\n"
   ]
  }
 ],
 "metadata": {
  "kernelspec": {
   "display_name": "Python 3 (ipykernel)",
   "language": "python",
   "name": "python3"
  },
  "language_info": {
   "codemirror_mode": {
    "name": "ipython",
    "version": 3
   },
   "file_extension": ".py",
   "mimetype": "text/x-python",
   "name": "python",
   "nbconvert_exporter": "python",
   "pygments_lexer": "ipython3",
   "version": "3.11.5"
  }
 },
 "nbformat": 4,
 "nbformat_minor": 5
}
