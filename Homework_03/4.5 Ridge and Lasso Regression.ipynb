{
 "cells": [
  {
   "cell_type": "code",
   "execution_count": null,
   "id": "80557858",
   "metadata": {},
   "outputs": [],
   "source": [
    "# Download the Fish Market dataset from OA 4.11. Use all the attributes \n",
    "# except for species  to predict the weight of the fish. Report the \n",
    "# coefficients returned by lasso and ridge models. "
   ]
  }
 ],
 "metadata": {
  "kernelspec": {
   "display_name": "Python 3 (ipykernel)",
   "language": "python",
   "name": "python3"
  },
  "language_info": {
   "codemirror_mode": {
    "name": "ipython",
    "version": 3
   },
   "file_extension": ".py",
   "mimetype": "text/x-python",
   "name": "python",
   "nbconvert_exporter": "python",
   "pygments_lexer": "ipython3",
   "version": "3.11.5"
  }
 },
 "nbformat": 4,
 "nbformat_minor": 5
}
