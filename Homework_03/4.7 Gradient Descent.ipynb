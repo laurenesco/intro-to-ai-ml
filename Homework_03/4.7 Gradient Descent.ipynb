{
 "cells": [
  {
   "cell_type": "code",
   "execution_count": null,
   "id": "5347f5d9",
   "metadata": {},
   "outputs": [],
   "source": [
    "# For this exercise you are going to work again with a movie review dataset. \n",
    "# In this dataset,  the ratings, budgets, and other information on popular \n",
    "# movies released in 2014 and 2015  were collected from social media websites \n",
    "# such as YouTube, Twitter, IMDB, etc. The  aggregated dataset can be downloaded \n",
    "# from OA 4.13. Use this dataset to answer the following questions:  \n",
    "#     1. What can you tell about the rating of a movie from its budget and aggregated number of  followers in social media channels?  \n",
    "#     2. If you incorporate the type of interaction the movie has received (number of likes, dislikes, and comments) in social media channels, does it improve your prediction?\n",
    "#     3. Among all the factors you considered in the last two models, which one is the best predictor of movie rating? With the best predictor feature, use gradient descent to find the  optimal intercept and gradient for the dataset. "
   ]
  }
 ],
 "metadata": {
  "kernelspec": {
   "display_name": "Python 3 (ipykernel)",
   "language": "python",
   "name": "python3"
  },
  "language_info": {
   "codemirror_mode": {
    "name": "ipython",
    "version": 3
   },
   "file_extension": ".py",
   "mimetype": "text/x-python",
   "name": "python",
   "nbconvert_exporter": "python",
   "pygments_lexer": "ipython3",
   "version": "3.11.5"
  }
 },
 "nbformat": 4,
 "nbformat_minor": 5
}
