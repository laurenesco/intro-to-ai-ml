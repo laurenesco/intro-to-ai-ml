{
 "cells": [
  {
   "cell_type": "code",
   "execution_count": null,
   "id": "65e5dd6d",
   "metadata": {},
   "outputs": [],
   "source": [
    "# Pick a cloud platform of your choice and find its Python tool or \n",
    "# interface (e.g., Google  Colab). Write a function in the interface \n",
    "# calculating the tax deduction from Problem 2.6.  Calculate taxable \n",
    "# income for someone filing as married and making $123,000. \n",
    "\n",
    "# 2.6\n",
    "# You are working on your taxes. One of the things to figure out is the \n",
    "# amount of deduction you can have. Write a function that takes two arguments: \n",
    "#     income and \n",
    "#     your filing  category (1 = single; \n",
    "#                            2 = married filing jointly; \n",
    "#                            3 = head of household). \n",
    "# The deductions  for these three categories are $12,200, $24,400, and $18,350. \n",
    "# If you make less than that  threshold, then you don’t pay any taxes. If you \n",
    "# make more, you get that full deduction.  So, if the input to your function is \n",
    "# $10,000 and “1” (for single), you can declare that no  tax is due. But if that \n",
    "# amount is $100,000, you can say that the taxable income for that  person is \n",
    "# $87,800. Make calls to this function from the main program to show how it works. "
   ]
  },
  {
   "cell_type": "code",
   "execution_count": 13,
   "id": "bf480007",
   "metadata": {},
   "outputs": [
    {
     "name": "stdout",
     "output_type": "stream",
     "text": [
      "Taxable income for income $20,000 and filing single is 7800.00\n",
      "Taxable income for income $20,000 and filing married joint is 0.00\n",
      "Taxable income for income $20,000 and filing head of household is 1650.00\n",
      "\n",
      "Taxable income for income $123,000 and filing head of household is 98600.00\n"
     ]
    }
   ],
   "source": [
    "deductions = {\n",
    "    1 : 12200,\n",
    "    2 : 24400,\n",
    "    3 : 18350\n",
    "}\n",
    "\n",
    "def taxDeduction(income, category):\n",
    "    if (category > 3 or category < 1):\n",
    "        raise ValueError(\"Invalid category number.\") \n",
    "    \n",
    "    for i in range(1, 4):\n",
    "        if category == i:\n",
    "            return 0 if income < deductions[i] else income - deductions[i]\n",
    "\n",
    "print(f\"Taxable income for income $20,000 and filing single is {taxDeduction(20000, 1):.2f}\")\n",
    "print(f\"Taxable income for income $20,000 and filing married joint is {taxDeduction(20000, 2):.2f}\")\n",
    "print(f\"Taxable income for income $20,000 and filing head of household is {taxDeduction(20000, 3):.2f}\")\n",
    "\n",
    "print(f\"\\nTaxable income for income $123,000 and filing head of household is {taxDeduction(123000, 2):.2f}\")"
   ]
  }
 ],
 "metadata": {
  "kernelspec": {
   "display_name": "Python 3 (ipykernel)",
   "language": "python",
   "name": "python3"
  },
  "language_info": {
   "codemirror_mode": {
    "name": "ipython",
    "version": 3
   },
   "file_extension": ".py",
   "mimetype": "text/x-python",
   "name": "python",
   "nbconvert_exporter": "python",
   "pygments_lexer": "ipython3",
   "version": "3.11.5"
  }
 },
 "nbformat": 4,
 "nbformat_minor": 5
}
