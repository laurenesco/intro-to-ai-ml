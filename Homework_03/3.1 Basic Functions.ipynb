{
 "cells": [
  {
   "cell_type": "code",
   "execution_count": null,
   "id": "d7a4ea62",
   "metadata": {},
   "outputs": [],
   "source": [
    "# Pick a cloud platform of your choice and find its Python tool or interface (e.g., Google  Colab). \n",
    "# Write a function in the interface to convert pounds (lb.) to kilograms (kg). Show  how you can call \n",
    "# that function. "
   ]
  },
  {
   "cell_type": "code",
   "execution_count": 2,
   "id": "76c7d4c7",
   "metadata": {},
   "outputs": [
    {
     "name": "stdout",
     "output_type": "stream",
     "text": [
      "123 pounds in kg is 55.79\n"
     ]
    }
   ],
   "source": [
    "def convertToKilos(pounds):\n",
    "    return pounds * 0.45359237\n",
    "\n",
    "print(f\"123 pounds in kg is {convertToKilos(123):.2f}\");"
   ]
  }
 ],
 "metadata": {
  "kernelspec": {
   "display_name": "Python 3 (ipykernel)",
   "language": "python",
   "name": "python3"
  },
  "language_info": {
   "codemirror_mode": {
    "name": "ipython",
    "version": 3
   },
   "file_extension": ".py",
   "mimetype": "text/x-python",
   "name": "python",
   "nbconvert_exporter": "python",
   "pygments_lexer": "ipython3",
   "version": "3.11.5"
  }
 },
 "nbformat": 4,
 "nbformat_minor": 5
}
