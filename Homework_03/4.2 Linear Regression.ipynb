{
 "cells": [
  {
   "cell_type": "code",
   "execution_count": null,
   "id": "bf69b988",
   "metadata": {},
   "outputs": [],
   "source": [
    "# For the next exercise you are going to use the Airline Costs dataset \n",
    "# available to download  from OA 4.9. The dataset has the following \n",
    "# attributes, among others:  \n",
    "#\n",
    "#     • airline name  \n",
    "#     • length of flight in miles  \n",
    "#     • speed of plane in miles per hour  \n",
    "#     • daily flight time per plane in hours  \n",
    "#     • customers served (in thousands)  \n",
    "#     • total operating cost in cents per revenue ton-mile  \n",
    "#     • total assets in $100,000s  \n",
    "#     • investments and special funds in $100,000s.  \n",
    "#\n",
    "# Use a linear regression model to predict the number of customers each \n",
    "# airline serves  using the length of the flight and daily flight time \n",
    "# per plane. Next, build another regression  model to predict the total \n",
    "# assets of an airline from the customers served by the airline. Do  you\n",
    "# have any insight into the data from the last two regression models? "
   ]
  },
  {
   "cell_type": "code",
   "execution_count": null,
   "id": "b527b7da",
   "metadata": {},
   "outputs": [],
   "source": [
    "For the next exercise you are going to use the Airline Costs dataset \n",
    "available to download  from OA 4.9. The dataset has the following \n",
    "attributes, among others:  \n",
    "\n",
    "     • airline name  \n",
    "     • length of flight in miles  \n",
    "     • speed of plane in miles per hour  \n",
    "     • daily flight time per plane in hours  \n",
    "     • customers served (in thousands)  \n",
    "     • total operating cost in cents per revenue ton-mile  \n",
    "     • total assets in $100,000s  \n",
    "     • investments and special funds in $100,000s.  "
   ]
  }
 ],
 "metadata": {
  "kernelspec": {
   "display_name": "Python 3 (ipykernel)",
   "language": "python",
   "name": "python3"
  },
  "language_info": {
   "codemirror_mode": {
    "name": "ipython",
    "version": 3
   },
   "file_extension": ".py",
   "mimetype": "text/x-python",
   "name": "python",
   "nbconvert_exporter": "python",
   "pygments_lexer": "ipython3",
   "version": "3.11.5"
  }
 },
 "nbformat": 4,
 "nbformat_minor": 5
}
