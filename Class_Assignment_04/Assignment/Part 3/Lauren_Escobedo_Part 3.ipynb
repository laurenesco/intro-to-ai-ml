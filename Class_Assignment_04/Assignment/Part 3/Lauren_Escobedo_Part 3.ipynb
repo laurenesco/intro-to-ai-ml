{
 "cells": [
  {
   "cell_type": "code",
   "execution_count": 51,
   "id": "a6e2613c",
   "metadata": {},
   "outputs": [],
   "source": [
    "# Look at the California housing sample data, and apply ridge \n",
    "# and lasso models to the dataset to predict housing price using \n",
    "# the other attributes as predictors. \n",
    "\n",
    "import numpy as np\n",
    "import pandas as pd\n",
    "from sklearn import linear_model\n",
    "\n",
    "df = pd.read_csv('california_housing_train.csv')"
   ]
  },
  {
   "cell_type": "code",
   "execution_count": 52,
   "id": "c684f869",
   "metadata": {},
   "outputs": [
    {
     "name": "stdout",
     "output_type": "stream",
     "text": [
      "Linear regression coefficient:  [[12.59809638]]\n",
      "Ridge regression coefficient:  [[12.59809638]]\n",
      "Lasso regression coefficient:  [12.59809581]\n"
     ]
    }
   ],
   "source": [
    "# Format the data appropriately (could have used guidance on reshaping the data, that caused a lot of issues)\n",
    "X = np.array(df.total_bedrooms)\n",
    "y = np.array(df.median_house_value)\n",
    "\n",
    "X = np.reshape(X, (-1, 1))\n",
    "y = np.reshape(y, (-1, 1))\n",
    "\n",
    "# Create the models\n",
    "linear_regression_model = linear_model.LinearRegression()\n",
    "lasso_model = linear_model.Lasso(alpha = 0.1)\n",
    "ridge_model = linear_model.Ridge(alpha = 0.1)\n",
    "\n",
    "# Fit the models\n",
    "linear_regression_model.fit(X, y)\n",
    "lasso_model.fit(X, y)\n",
    "ridge_model.fit(X, y)\n",
    "\n",
    "# Print the coefficients\n",
    "print(\"Linear regression coefficient: \", linear_regression_model.coef_)\n",
    "print(\"Ridge regression coefficient: \", ridge_model.coef_)\n",
    "print(\"Lasso regression coefficient: \", lasso_model.coef_)"
   ]
  }
 ],
 "metadata": {
  "kernelspec": {
   "display_name": "Python 3 (ipykernel)",
   "language": "python",
   "name": "python3"
  },
  "language_info": {
   "codemirror_mode": {
    "name": "ipython",
    "version": 3
   },
   "file_extension": ".py",
   "mimetype": "text/x-python",
   "name": "python",
   "nbconvert_exporter": "python",
   "pygments_lexer": "ipython3",
   "version": "3.11.5"
  }
 },
 "nbformat": 4,
 "nbformat_minor": 5
}
