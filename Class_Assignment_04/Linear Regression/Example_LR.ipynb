{
 "cells": [
  {
   "cell_type": "markdown",
   "id": "daedd211",
   "metadata": {},
   "source": [
    "# Machine Learning and Data Visualization with Python"
   ]
  },
  {
   "cell_type": "code",
   "execution_count": 1,
   "id": "58c6a6e2",
   "metadata": {},
   "outputs": [],
   "source": [
    "# Import necessary libraries\n",
    "import numpy as np\n",
    "import pandas as pd\n",
    "import matplotlib.pyplot as plt\n",
    "import statsmodels.api as sm"
   ]
  },
  {
   "cell_type": "code",
   "execution_count": 2,
   "id": "98696c0f",
   "metadata": {},
   "outputs": [],
   "source": [
    "# Load the dataset\n",
    "df = pd.read_csv('longley.csv', index_col=0)"
   ]
  },
  {
   "cell_type": "code",
   "execution_count": 3,
   "id": "4830e8ea",
   "metadata": {},
   "outputs": [
    {
     "name": "stdout",
     "output_type": "stream",
     "text": [
      "Correlation coefficient between 'Employed' and 'GNP': 0.9835516111796693\n"
     ]
    }
   ],
   "source": [
    "# Display correlation coefficient between 'Employed' and 'GNP'\n",
    "print(\"Correlation coefficient between 'Employed' and 'GNP':\", np.corrcoef(df.Employed, df.GNP)[0, 1])"
   ]
  },
  {
   "cell_type": "code",
   "execution_count": 4,
   "id": "c0b1c53b",
   "metadata": {},
   "outputs": [],
   "source": [
    "# Prepare the data for regression analysis\n",
    "X = df['Employed']  # Independent variable\n",
    "y = df['GNP']  # Dependent variable\n",
    "X = sm.add_constant(X)  # Adds a constant term to the predictor"
   ]
  },
  {
   "cell_type": "code",
   "execution_count": 5,
   "id": "a75dae0c",
   "metadata": {},
   "outputs": [],
   "source": [
    "# Fit the linear regression model\n",
    "model = sm.OLS(y, X).fit()"
   ]
  },
  {
   "cell_type": "code",
   "execution_count": 6,
   "id": "3ff6132a",
   "metadata": {},
   "outputs": [
    {
     "name": "stdout",
     "output_type": "stream",
     "text": [
      "                            OLS Regression Results                            \n",
      "==============================================================================\n",
      "Dep. Variable:                    GNP   R-squared:                       0.967\n",
      "Model:                            OLS   Adj. R-squared:                  0.965\n",
      "Method:                 Least Squares   F-statistic:                     415.1\n",
      "Date:                Wed, 07 Feb 2024   Prob (F-statistic):           8.36e-12\n",
      "Time:                        13:31:52   Log-Likelihood:                -68.391\n",
      "No. Observations:                  16   AIC:                             140.8\n",
      "Df Residuals:                      14   BIC:                             142.3\n",
      "Df Model:                           1                                         \n",
      "Covariance Type:            nonrobust                                         \n",
      "==============================================================================\n",
      "                 coef    std err          t      P>|t|      [0.025      0.975]\n",
      "------------------------------------------------------------------------------\n",
      "const      -1430.4823     89.361    -16.008      0.000   -1622.142   -1238.822\n",
      "Employed      27.8363      1.366     20.374      0.000      24.906      30.767\n",
      "==============================================================================\n",
      "Omnibus:                        1.033   Durbin-Watson:                   1.530\n",
      "Prob(Omnibus):                  0.597   Jarque-Bera (JB):                0.836\n",
      "Skew:                          -0.499   Prob(JB):                        0.658\n",
      "Kurtosis:                       2.491   Cond. No.                     1.26e+03\n",
      "==============================================================================\n",
      "\n",
      "Notes:\n",
      "[1] Standard Errors assume that the covariance matrix of the errors is correctly specified.\n",
      "[2] The condition number is large, 1.26e+03. This might indicate that there are\n",
      "strong multicollinearity or other numerical problems.\n"
     ]
    },
    {
     "name": "stderr",
     "output_type": "stream",
     "text": [
      "/Users/dtorre/anaconda3/lib/python3.11/site-packages/scipy/stats/_stats_py.py:1806: UserWarning: kurtosistest only valid for n>=20 ... continuing anyway, n=16\n",
      "  warnings.warn(\"kurtosistest only valid for n>=20 ... continuing \"\n"
     ]
    }
   ],
   "source": [
    "# Print the summary of the linear regression model\n",
    "print(model.summary())"
   ]
  },
  {
   "cell_type": "code",
   "execution_count": 7,
   "id": "651561ea",
   "metadata": {},
   "outputs": [
    {
     "data": {
      "image/png": "[encoded data removed]",
      "text/plain": [
       "<Figure size 640x480 with 1 Axes>"
      ]
     },
     "metadata": {},
     "output_type": "display_data"
    }
   ],
   "source": [
    "# Plotting\n",
    "plt.scatter(df['Employed'], df['GNP'])\n",
    "plt.xlabel('Employed')\n",
    "plt.ylabel('GNP')\n",
    "plt.title('Scatter plot of Employed vs GNP')\n",
    "plt.show()"
   ]
  },
  {
   "cell_type": "code",
   "execution_count": null,
   "id": "bb8d42df",
   "metadata": {},
   "outputs": [],
   "source": []
  }
 ],
 "metadata": {
  "kernelspec": {
   "display_name": "Python 3 (ipykernel)",
   "language": "python",
   "name": "python3"
  },
  "language_info": {
   "codemirror_mode": {
    "name": "ipython",
    "version": 3
   },
   "file_extension": ".py",
   "mimetype": "text/x-python",
   "name": "python",
   "nbconvert_exporter": "python",
   "pygments_lexer": "ipython3",
   "version": "3.11.5"
  }
 },
 "nbformat": 4,
 "nbformat_minor": 5
}
