{
  "cells": [
    {
      "cell_type": "code",
      "source": [
        "# Lauren Escobedo\n",
        "\n",
        "# This block mount Google Drive to your Colab\n",
        "\n",
        "from google.colab import drive\n",
        "drive.mount('/content/drive')"
      ],
      "metadata": {
        "colab": {
          "base_uri": "https://localhost:8080/"
        },
        "id": "dzgNACOANY7j",
        "outputId": "7f44eec7-c75d-44fa-b04a-be5e98279203"
      },
      "execution_count": null,
      "outputs": [
        {
          "output_type": "stream",
          "name": "stdout",
          "text": [
            "Mounted at /content/drive\n"
          ]
        }
      ]
    },
    {
      "cell_type": "code",
      "execution_count": null,
      "metadata": {
        "id": "lLcfdFJ_nTSW"
      },
      "outputs": [],
      "source": [
        "# This block imports necessary Python libraries, such as pandas for data manipulation, and numpy for numerical operations.\n",
        "# In addition, add the training dataset italy_housing_train.csv\n",
        "import pandas as pd\n",
        "import numpy as np\n",
        "\n",
        "data = pd.read_csv(\"/content/drive/MyDrive/Colab Notebooks/italy_housing_test.csv\")\n",
        "df = pd.read_csv(\"/content/drive/MyDrive/Colab Notebooks/italy_housing_train.csv\")"
      ]
    },
    {
      "cell_type": "code",
      "execution_count": null,
      "metadata": {
        "colab": {
          "base_uri": "https://localhost:8080/",
          "height": 466
        },
        "id": "w3lYjppotvKD",
        "outputId": "110c941a-1e55-4772-f6a5-86147bd491ec"
      },
      "outputs": [
        {
          "output_type": "execute_result",
          "data": {
            "text/plain": [
              "Text(0, 0.5, 'Total Bedrooms')"
            ]
          },
          "metadata": {},
          "execution_count": 4
        },
        {
          "output_type": "display_data",
          "data": {
            "text/plain": [
              "<Figure size 640x480 with 1 Axes>"
            ],
            "image/png": "[encoded data removed]"
          },
          "metadata": {}
        }
      ],
      "source": [
        "# This block loads the dataset from a CSV file into a pandas DataFrame, which allows for convenient data manipulation.\n",
        "# In particular, the code below performs the following tasks:\n",
        "#     1. It imports the `matplotlib.pyplot` module, which is commonly used for creating static, interactive,\n",
        "#        and animated visualizations in Python.\n",
        "# The module is given the alias `plt` for ease of reference.\n",
        "import matplotlib.pyplot as plt\n",
        "\n",
        "#     2. It extracts data from two columns, `'population'` and `'total_bedrooms'`, from a DataFrame `df`.\n",
        "#        The DataFrame `df` is assumed to have been defined in a previous block of code and contain the\n",
        "#        data from the `italy_housing_train.csv` dataset.\n",
        "populationData = df['population']\n",
        "bedroomData = df['total_bedrooms']\n",
        "\n",
        "#     3. Using `plt.scatter`, it creates a scatter plot with the population values on the x-axis and the total\n",
        "#        number of bedrooms on the y-axis. Scatter plots are useful for visualizing the relationship\n",
        "#        between two variables.\n",
        "plt.scatter(populationData, bedroomData)\n",
        "\n",
        "#     4. It sets the label for the x-axis to `'Population'` using `plt.xlabel`.\n",
        "plt.xlabel(\"Population\")\n",
        "\n",
        "#     5. It sets the label for the y-axis to `'Total Bedrooms'` using `plt.ylabel`.\n",
        "plt.ylabel(\"Total Bedrooms\")\n",
        "\n",
        "# When executed, this code will generate a scatter plot that provides a visual representation of how the population\n",
        "# of a region relates to the total number of bedrooms in that region, according to the dataset provided. This can be\n",
        "# helpful in understanding the housing characteristics in California, such as whether areas with larger populations\n",
        "# tend to have more bedrooms available, which could imply larger or more numerous housing units."
      ]
    },
    {
      "cell_type": "code",
      "execution_count": null,
      "metadata": {
        "colab": {
          "base_uri": "https://localhost:8080/"
        },
        "id": "JgF_t7LXuKd4",
        "outputId": "49ae184c-06ce-45c9-e074-39175807d0ff"
      },
      "outputs": [
        {
          "output_type": "execute_result",
          "data": {
            "text/plain": [
              "((17000,), (17000,))"
            ]
          },
          "metadata": {},
          "execution_count": 5
        }
      ],
      "source": [
        "# The code block serves to prepare the data for further processing or analysis, such as input into a machine learning\n",
        "# model, by ensuring that the data is in the correct format (NumPy arrays) and understanding the dimensions of the\n",
        "# data (by checking the shape). It's a common step in data preprocessing, especially when the subsequent\n",
        "# analysis relies on NumPy's efficient computation capabilities. In particular this block convert two Pandas\n",
        "# to NumPy arrays and then checks their shapes. Here's a breakdown of the code:\n",
        "\n",
        "#     1. `pop_np = pop.to_numpy()`: This line takes a Pandas Series (`pop`, which refers to the population column)\n",
        "#     and converts it to a NumPy array. The `.to_numpy()` method is a standard way to convert a Pandas Series to a\n",
        "#     NumPy array, which can be more efficient for certain types of numerical computations.\n",
        "pop_np = populationData.to_numpy()\n",
        "\n",
        "#     2. `bedrooms_np = bedrooms.to_numpy()`: Similar to the first line, this converts another Pandas Series\n",
        "#     (`bedrooms`, which represent the number of bedrooms in a housing dataset) into a NumPy array.\n",
        "bedrooms_np = bedroomData.to_numpy()\n",
        "\n",
        "#     3. `pop_np.shape, bedrooms_np.shape`: This line evaluates the shape of both NumPy arrays created from the Series.\n",
        "#     The `.shape` attribute of a NumPy array returns a tuple representing the dimensions of the array. If the Series\n",
        "#     were one-dimensional (which is typical for Series), their shapes would be `(n,)`, where `n` is the\n",
        "#     number of elements in the Series.\n",
        "pop_np.shape, bedrooms_np.shape"
      ]
    },
    {
      "cell_type": "code",
      "execution_count": null,
      "metadata": {
        "colab": {
          "base_uri": "https://localhost:8080/"
        },
        "id": "EJAJ--poulcn",
        "outputId": "cfea3af2-9a58-4ca9-eeaa-4fb4e0a629c9"
      },
      "outputs": [
        {
          "output_type": "execute_result",
          "data": {
            "text/plain": [
              "(17000,)"
            ]
          },
          "metadata": {},
          "execution_count": 6
        }
      ],
      "source": [
        "# This block uses the `LinearRegression` class from the `sklearn.linear_model` module to perform linear regression:\n",
        "\n",
        "#     1. `from sklearn.linear_model import LinearRegression`: This line imports the `LinearRegression` class from the\n",
        "#     `scikit-learn` machine learning library. `LinearRegression` is a class that implements linear regression using\n",
        "#     the least squares approach.\n",
        "from sklearn.linear_model import LinearRegression\n",
        "\n",
        "#     2. `sklearn_model = LinearRegression().fit(pop_np.reshape((17000, 1)), bedrooms_np)`: This line creates an instance of\n",
        "#     `LinearRegression` and fits it to the data. The `fit` method is used to fit the linear model to the data:\n",
        "#         2.1 - `pop_np.reshape((17000, 1))` suggests that there is a NumPy array named `pop_np` which is being reshaped\n",
        "#         into a two-dimensional array with 17,000 rows and 1 column. This represents the population feature from the\n",
        "#         dataset, which is being used as the independent variable or predictor.\n",
        "#         2.1 - `bedrooms_np` is a NumPy array representing the number of bedrooms in each instance of the dataset, used\n",
        "#         as the dependent variable or target. The `.fit()` method is what actually trains the linear regression model.\n",
        "#         The model is trying to find the best linear relationship between the population size\n",
        "#         (as the independent variable) and the number of bedrooms (as the dependent variable).\n",
        "sklearn_model = LinearRegression().fit(pop_np.reshape((17000, 1)), bedrooms_np)\n",
        "\n",
        "#     3. `sklearn_bedroom_predictions = sklearn_model.predict(pop_np.reshape((17000, 1)))`: After fitting the model, this\n",
        "#     line uses the `.predict()` method to predict the number of bedrooms based on the population feature (`pop_np`).\n",
        "#     The same reshaping is done here to ensure that the data has the proper dimensions expected by the model.\n",
        "sklearn_bedroom_predictions = sklearn_model.predict(pop_np.reshape((17000, 1)))\n",
        "\n",
        "#     4. `sklearn_bedroom_predictions.shape`: This line gets the shape of the `sklearn_bedroom_predictions` array,\n",
        "#     which contains the predictions made by the model. The shape should return (17000,), indicating there are 17,000\n",
        "#     predictions made by the model, corresponding to the 17,000 instances in the input data.\n",
        "sklearn_bedroom_predictions.shape\n",
        "\n",
        "# In summary, this code block is training a linear regression model to predict the number of bedrooms based on\n",
        "# the population size and then generating those predictions. The last line checks the shape of the predictions to\n",
        "# verify that the operation was successful."
      ]
    },
    {
      "cell_type": "code",
      "execution_count": null,
      "metadata": {
        "colab": {
          "base_uri": "https://localhost:8080/",
          "height": 466
        },
        "id": "PjbVjuR6vKuF",
        "outputId": "7c0de927-0cee-4da0-badb-7a96562ef209"
      },
      "outputs": [
        {
          "output_type": "execute_result",
          "data": {
            "text/plain": [
              "<matplotlib.collections.PathCollection at 0x7f55d4d25420>"
            ]
          },
          "metadata": {},
          "execution_count": 7
        },
        {
          "output_type": "display_data",
          "data": {
            "text/plain": [
              "<Figure size 640x480 with 1 Axes>"
            ],
            "image/png": "[encoded data removed]"
          },
          "metadata": {}
        }
      ],
      "source": [
        "# This block contains code that is used for plotting data from our DataFrame, which is related to our housing dataset\n",
        "# given the context of the variable names used. Here's a detailed explanation of the code in the fifth block:\n",
        "# Similarly to what we have done in block 3:\n",
        "\n",
        "#     1. `pop = df['population']`: This line is extracting the 'population' column from the DataFrame `df` and assigning\n",
        "#     it to the variable `pop`.\n",
        "pop = df['population']\n",
        "\n",
        "#     2. `bedrooms = df['total_bedrooms']`: Similarly, this line is extracting the 'total_bedrooms' column from the\n",
        "#     DataFrame `df` and assigning it to the variable `bedrooms`.\n",
        "bedrooms = df['total_bedrooms']\n",
        "\n",
        "#     3. `plt.scatter(pop, bedrooms)`: This line creates a scatter plot with `pop` (population) on the x-axis and\n",
        "#     `bedrooms` (total bedrooms) on the y-axis.\n",
        "plt.scatter(pop, bedrooms)\n",
        "\n",
        "#     4. `plt.xlabel('Population')`: This sets the label of the x-axis to 'Population'.\n",
        "plt.xlabel('Population')\n",
        "\n",
        "#     5. `plt.ylabel('Total Bedrooms')`: This sets the label of the y-axis to 'Total Bedrooms'.\n",
        "plt.ylabel('Total Bedrooms')\n",
        "\n",
        "#     6. Here there is something new! We use `plt.scatter(pop, sklearn_bedroom_predictions)`: this command is plotting\n",
        "#     the predictions of the number of bedrooms against the population. This scatter plot is used to visualize the\n",
        "#     performance of the linear regression model. The actual data points show the real number of bedrooms for\n",
        "#     the corresponding population, and the predictions show what the linear regression model estimates for those same\n",
        "#     population values. By comparing the two plots, one can visually assess how well the model's predictions align with\n",
        "#     the actual data.\n",
        "plt.scatter(pop, sklearn_bedroom_predictions)\n",
        "\n",
        "# The purpose of this block is to visually compare the actual and predicted values of total bedrooms based on the\n",
        "# population. It helps in understanding how well the linear regression model, trained in block four, is performing in\n",
        "# terms of prediction accuracy."
      ]
    },
    {
      "cell_type": "code",
      "execution_count": null,
      "metadata": {
        "colab": {
          "base_uri": "https://localhost:8080/"
        },
        "id": "9scrCzFRvOSo",
        "outputId": "20302d97-988f-4cf6-ac45-b42fd0a20fc1"
      },
      "outputs": [
        {
          "output_type": "stream",
          "name": "stdout",
          "text": [
            "               405.266668  442.153776  184.591162  243.481106  278.750359   \\\n",
            "total_bedrooms                                                               \n",
            "1283.0                 NaN         NaN         NaN         NaN         NaN   \n",
            "1901.0                 NaN         NaN         NaN         NaN         NaN   \n",
            "174.0                  NaN         NaN         NaN         NaN         NaN   \n",
            "337.0                  NaN         NaN         NaN         NaN         NaN   \n",
            "326.0                  NaN         NaN         NaN         NaN         NaN   \n",
            "...                    ...         ...         ...         ...         ...   \n",
            "394.0                  NaN         NaN         NaN         NaN         NaN   \n",
            "528.0                  NaN         NaN         NaN         NaN         NaN   \n",
            "531.0                  NaN         NaN         NaN         NaN         NaN   \n",
            "552.0                  NaN         NaN         NaN         NaN         NaN   \n",
            "300.0                  NaN         NaN         NaN         NaN         NaN   \n",
            "\n",
            "               293.958202  672.536415  198.181149  1090.913877 331.492452   \\\n",
            "total_bedrooms                                                               \n",
            "1283.0                 NaN         NaN         NaN         NaN         NaN   \n",
            "1901.0                 NaN         NaN         NaN         NaN         NaN   \n",
            "174.0                  NaN         NaN         NaN         NaN         NaN   \n",
            "337.0                  NaN         NaN         NaN         NaN         NaN   \n",
            "326.0                  NaN         NaN         NaN         NaN         NaN   \n",
            "...                    ...         ...         ...         ...         ...   \n",
            "394.0                  NaN         NaN         NaN         NaN         NaN   \n",
            "528.0                  NaN         NaN         NaN         NaN         NaN   \n",
            "531.0                  NaN         NaN         NaN         NaN         NaN   \n",
            "552.0                  NaN         NaN         NaN         NaN         NaN   \n",
            "300.0                  NaN         NaN         NaN         NaN         NaN   \n",
            "\n",
            "                ... 571.905796  511.397996  252.864669  449.595912   \\\n",
            "total_bedrooms  ...                                                   \n",
            "1283.0          ...         NaN         NaN         NaN         NaN   \n",
            "1901.0          ...         NaN         NaN         NaN         NaN   \n",
            "174.0           ...         NaN         NaN         NaN         NaN   \n",
            "337.0           ...         NaN         NaN         NaN         NaN   \n",
            "326.0           ...         NaN         NaN         NaN         NaN   \n",
            "...             ...         ...         ...         ...         ...   \n",
            "394.0           ...         NaN         NaN         NaN         NaN   \n",
            "528.0           ...         NaN         NaN         NaN         NaN   \n",
            "531.0           ...         NaN         NaN         NaN         NaN   \n",
            "552.0           ...         NaN         NaN         NaN         NaN   \n",
            "300.0           ...         NaN         NaN         NaN         NaN   \n",
            "\n",
            "               217.271846  370.320987  463.185899  479.364455  496.837296   \\\n",
            "total_bedrooms                                                               \n",
            "1283.0                 NaN         NaN         NaN         NaN         NaN   \n",
            "1901.0                 NaN         NaN         NaN         NaN         NaN   \n",
            "174.0                  NaN         NaN         NaN         NaN         NaN   \n",
            "337.0                  NaN         NaN         NaN         NaN         NaN   \n",
            "326.0                  NaN         NaN         NaN         NaN         NaN   \n",
            "...                    ...         ...         ...         ...         ...   \n",
            "394.0                  NaN         NaN         NaN         NaN         NaN   \n",
            "528.0                  NaN         NaN         NaN         NaN         NaN   \n",
            "531.0                  NaN         NaN         NaN         NaN         NaN   \n",
            "552.0                  NaN         NaN         NaN         NaN         NaN   \n",
            "300.0                  NaN         NaN         NaN         NaN         NaN   \n",
            "\n",
            "               337.640303   \n",
            "total_bedrooms              \n",
            "1283.0                 NaN  \n",
            "1901.0                 NaN  \n",
            "174.0                  NaN  \n",
            "337.0                  NaN  \n",
            "326.0                  NaN  \n",
            "...                    ...  \n",
            "394.0                  NaN  \n",
            "528.0                  NaN  \n",
            "531.0                  NaN  \n",
            "552.0                  NaN  \n",
            "300.0                  NaN  \n",
            "\n",
            "[17000 rows x 17000 columns]\n"
          ]
        }
      ],
      "source": [
        "# This block creates a pandas DataFrame and displaying it. Here's a step-by-step breakdown of the code within this cell:\n",
        "\n",
        "#     1. A new DataFrame called `predictions_df` is created using `pd.DataFrame()`. This DataFrame is constructed with a\n",
        "#     dictionary where the keys represent the column names, and the values are the data that will fill those columns.\n",
        "\n",
        "#     2. Three key-value pairs are provided to the DataFrame constructor:\n",
        "#         - `'Population'`: The key is a string that will become the column name for the population data. The value `pop`\n",
        "#         is expected to be a previously defined variable or a list-like object containing the population data.\n",
        "#         - `'Bedrooms'`: Similarly, this key will create a column for bedroom data, with the `bedrooms` variable holding\n",
        "#         the actual bedroom data.\n",
        "#         - `'Sklearn Bedroom Predictions'`: This column is intended to hold predictions about bedrooms made by a machine\n",
        "#         learning model from the scikit-learn library. The variable `sklearn_bedroom_predictions` is expected to contain\n",
        "#         these predictions.\n",
        "predictions_df = pd.DataFrame(pop, bedrooms, sklearn_bedroom_predictions)\n",
        "\n",
        "#     3. After the DataFrame is created, it is simply returned or printed out in the notebook cell, which would display the\n",
        "#     DataFrame's contents in tabular form.\n",
        "print(predictions_df)\n",
        "\n",
        "# This cell is part of a larger context, likely a machine learning task where a model has been used to predict the number of bedrooms based on population size,\n",
        "# and the predictions are being organized into a DataFrame for comparison or further analysis."
      ]
    },
    {
      "cell_type": "code",
      "execution_count": 14,
      "metadata": {
        "id": "4iQsxf-7ePQi"
      },
      "outputs": [],
      "source": [
        "# Import necessary libraries, such as \"from sklearn.metrics import mean_squared_error\" and \"from math import sqrt\"\n",
        "from sklearn.metrics import mean_squared_error\n",
        "from math import sqrt\n",
        "\n",
        "# Load the test dataset\n",
        "df = pd.read_csv(\"/content/drive/MyDrive/Colab Notebooks/italy_housing_test.csv\")\n",
        "\n",
        "# Assuming that 'population' is the feature and 'bedrooms' is the target in the test set\n",
        "# as it was in the training set, we will separate them.\n",
        "X_test = df[['population']]\n",
        "y_test = df[['total_bedrooms']]"
      ]
    },
    {
      "cell_type": "code",
      "execution_count": 15,
      "metadata": {
        "id": "AmydPHjBhUlq"
      },
      "outputs": [],
      "source": [
        "# We use our sklearn_model to load the test set.\n",
        "sklearn_model.fit(X_test, y_test)\n",
        "\n",
        "# Make predictions on the test set\n",
        "predictions = sklearn_model.predict(X_test)"
      ]
    },
    {
      "cell_type": "code",
      "execution_count": 16,
      "metadata": {
        "id": "UweW9kibhgt_",
        "colab": {
          "base_uri": "https://localhost:8080/"
        },
        "outputId": "cbc2eb0b-72d9-413a-c956-3b36d54a9f15"
      },
      "outputs": [
        {
          "output_type": "stream",
          "name": "stdout",
          "text": [
            "Root mean squared error: 214.58071134283995\n"
          ]
        }
      ],
      "source": [
        "# Calculate the mean squared error\n",
        "mse = mean_squared_error(y_test, predictions)\n",
        "\n",
        "# Calculate the RMSE (Root Mean Squared Error) which is a common metric for linear regression.\n",
        "rsme = sqrt(mse)\n",
        "\n",
        "print(f'Root mean squared error: {rsme}')\n",
        "\n",
        "#In particular, RMSE is used to evaluate the linear regression model's performance because it gives a straightforward measure of the average magnitude of the\n",
        "# model's prediction errors.\n",
        "#The code calculates RMSE by:\n",
        "# 1. Predicting the number of bedrooms (`total_bedrooms`) from the population size (`population`) in the Italy housing test dataset.\n",
        "# 2. Computing the residuals, which are the differences between the predicted number of bedrooms and the actual values in the test dataset.\n",
        "# 3. Squaring these residuals to ensure they are positive and to emphasize larger errors.\n",
        "# 4. Averaging the squared residuals, resulting in the Mean Squared Error (MSE).\n",
        "# 5. Taking the square root of the MSE to obtain the RMSE, which reverts the scale back to the original units of the target variable (bedrooms).\n",
        "# By using RMSE, the code aims to provide a clear indication of how well the model can predict the number of bedrooms based on population size,\n",
        "# with a lower RMSE indicating better model performance. The RMSE offers an easily interpretable scale and emphasizes larger prediction errors,\n",
        "# which can be critical for decision-making in practical applications.\n",
        "# RMSE should ideally be small relative to the range of the target variable. If the scale of the target variable is 17,000, an RMSE of 214.5807 is approximately 1.26%\n",
        "# of the scale. This small percentage suggests that the model's predictions are quite close to the actual values on average.\n",
        "# The RMSE value of 214.5807 means that, on average, the model's predictions of the number of bedrooms are about 214 bedrooms away from the actual number of\n",
        "# bedrooms in the dataset. In simpler terms, if you think of the model's predictions as arrows trying to hit the center of a target (the real number of bedrooms),\n",
        "# those arrows are landing, on average, 214 bedrooms away from the bullseye. Since the range of total bedrooms is up to 17,000, being off by 214 is relatively small,\n",
        "# suggesting the model is doing a decent job at predictions, although there's still some room for error."
      ]
    }
  ],
  "metadata": {
    "colab": {
      "provenance": []
    },
    "kernelspec": {
      "display_name": "Python 3",
      "name": "python3"
    },
    "language_info": {
      "name": "python"
    }
  },
  "nbformat": 4,
  "nbformat_minor": 0
}