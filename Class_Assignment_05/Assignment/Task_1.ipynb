{
 "cells": [
  {
   "cell_type": "code",
   "execution_count": null,
   "id": "10939003",
   "metadata": {},
   "outputs": [],
   "source": [
    "# TASK 1: Implement a KNN Classification  [30 Minutes]\n",
    "#\n",
    "# Dataset: \"seeds_dataset.txt\"\n",
    "#\n",
    "# Task to carry out: Consider the wheat dataset that comprises data about kernels \n",
    "# belonging to three different varieties of wheat: Kama, Rosa,  and Canadian. \n",
    "# For each wheat variety, with a random sample of 70 elements, high-quality \n",
    "# visualization of  the internal kernel structure was detected using a soft \n",
    "# X-ray technique. Seven geometric parameters of wheat  kernels were \n",
    "# measured. Use these measurements to classify the wheat variety. Notice \n",
    "# the column of this dataset are as follows: = ['a', 'p', 'compactness', \n",
    "# 'length', 'width', 'coeff', 'length_g', 'type']"
   ]
  }
 ],
 "metadata": {
  "kernelspec": {
   "display_name": "Python 3 (ipykernel)",
   "language": "python",
   "name": "python3"
  },
  "language_info": {
   "codemirror_mode": {
    "name": "ipython",
    "version": 3
   },
   "file_extension": ".py",
   "mimetype": "text/x-python",
   "name": "python",
   "nbconvert_exporter": "python",
   "pygments_lexer": "ipython3",
   "version": "3.11.5"
  }
 },
 "nbformat": 4,
 "nbformat_minor": 5
}
