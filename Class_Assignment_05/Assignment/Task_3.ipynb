{
 "cells": [
  {
   "cell_type": "code",
   "execution_count": null,
   "id": "47734798",
   "metadata": {},
   "outputs": [],
   "source": [
    "# TASK 3: Implement a Random Forest Classification  [30 Minutes]\n",
    "#\n",
    "# Dataset: \"balloons.csv\"\n",
    "#\n",
    "# Task to carry out: Consider the balloons dataset. Use this dataset and \n",
    "# create a  random forest model to classify whether the balloons are \n",
    "# inflated or not from the available attributes. Compare the performance \n",
    "# (e.g., accuracy) of this model against that of one created using a \n",
    "# decision tree (see the provided example). "
   ]
  }
 ],
 "metadata": {
  "kernelspec": {
   "display_name": "Python 3 (ipykernel)",
   "language": "python",
   "name": "python3"
  },
  "language_info": {
   "codemirror_mode": {
    "name": "ipython",
    "version": 3
   },
   "file_extension": ".py",
   "mimetype": "text/x-python",
   "name": "python",
   "nbconvert_exporter": "python",
   "pygments_lexer": "ipython3",
   "version": "3.11.5"
  }
 },
 "nbformat": 4,
 "nbformat_minor": 5
}
