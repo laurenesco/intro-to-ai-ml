{
 "cells": [
  {
   "cell_type": "code",
   "execution_count": null,
   "id": "db66e77d",
   "metadata": {},
   "outputs": [],
   "source": [
    "# TASK 2: Implement a Decision Tree Classification  [30 Minutes]\n",
    "#\n",
    "# Dataset: \"lenses.data\"\n",
    "#\n",
    "# Task to carry out: Considering the contact lenses dataset, and it has three class labels:  \n",
    "#\n",
    "#     the patient should be prescribed hard contact lenses;  \n",
    "#     the patient should be prescribed soft contact lenses;  \n",
    "#     the patient should not be prescribed contact lenses.  \n",
    "#\n",
    "# Build a decision-tree-based classifier that would recommend a class label based on the other \n",
    "# attributes  from the dataset. "
   ]
  }
 ],
 "metadata": {
  "kernelspec": {
   "display_name": "Python 3 (ipykernel)",
   "language": "python",
   "name": "python3"
  },
  "language_info": {
   "codemirror_mode": {
    "name": "ipython",
    "version": 3
   },
   "file_extension": ".py",
   "mimetype": "text/x-python",
   "name": "python",
   "nbconvert_exporter": "python",
   "pygments_lexer": "ipython3",
   "version": "3.11.5"
  }
 },
 "nbformat": 4,
 "nbformat_minor": 5
}
