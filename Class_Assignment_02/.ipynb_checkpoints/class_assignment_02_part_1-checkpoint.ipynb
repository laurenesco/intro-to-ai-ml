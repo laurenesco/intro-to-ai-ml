{
 "cells": [
  {
   "cell_type": "code",
   "execution_count": 24,
   "id": "b043582c",
   "metadata": {},
   "outputs": [
    {
     "name": "stdout",
     "output_type": "stream",
     "text": [
      "69 18 43.5518 44.0 226.1892767599957 15.039590312239083\n"
     ]
    }
   ],
   "source": [
    "import numpy as np\n",
    "import pandas as pd\n",
    "\n",
    "data = pd.read_csv(\"music2.csv\")\n",
    "age_data = data['age']\n",
    "\n",
    "max = np.max(age_data)\n",
    "min = np.min(age_data)\n",
    "mean = np.mean(age_data)\n",
    "median = np.median(age_data)\n",
    "variance = np.var(age_data)\n",
    "std = np.std(age_data)\n",
    "\n",
    "print (max, min, mean, median, variance, std)"
   ]
  },
  {
   "cell_type": "code",
   "execution_count": null,
   "id": "af63df37",
   "metadata": {},
   "outputs": [],
   "source": []
  },
  {
   "cell_type": "code",
   "execution_count": null,
   "id": "ecac2040",
   "metadata": {},
   "outputs": [],
   "source": []
  }
 ],
 "metadata": {
  "kernelspec": {
   "display_name": "Python 3 (ipykernel)",
   "language": "python",
   "name": "python3"
  },
  "language_info": {
   "codemirror_mode": {
    "name": "ipython",
    "version": 3
   },
   "file_extension": ".py",
   "mimetype": "text/x-python",
   "name": "python",
   "nbconvert_exporter": "python",
   "pygments_lexer": "ipython3",
   "version": "3.11.5"
  }
 },
 "nbformat": 4,
 "nbformat_minor": 5
}
