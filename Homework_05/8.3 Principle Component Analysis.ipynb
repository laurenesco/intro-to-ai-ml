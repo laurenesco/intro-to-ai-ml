{
 "cells": [
  {
   "cell_type": "code",
   "execution_count": null,
   "id": "737f1821",
   "metadata": {},
   "outputs": [],
   "source": [
    "# \n",
    "# Obtain the data about temperature measurements from four corners of a room \n",
    "# from OA 8.6.  Before doing anything with this data, ask yourself: How much do \n",
    "# you expect to see these  four features differ? Could some of these be “collapsed” \n",
    "# into one another? Go ahead and  perform PCA on it. Do the findings make sense \n",
    "# with what you expected? \n",
    "# "
   ]
  },
  {
   "cell_type": "code",
   "execution_count": 8,
   "id": "999ab9b0",
   "metadata": {},
   "outputs": [
    {
     "name": "stdout",
     "output_type": "stream",
     "text": [
      "\n",
      "Shape of X: (144, 4) \n",
      "\n"
     ]
    }
   ],
   "source": [
    "import pandas as pd\n",
    "from sklearn.decomposition import PCA\n",
    "from sklearn.preprocessing import StandardScaler\n",
    "import matplotlib.pyplot as plt\n",
    "import matplotlib.cm as cm\n",
    "import numpy as np\n",
    "\n",
    "df = pd.read_csv('../Datasets/Code_and_Data_(Chapter_08)/Code and Data (Chapter 08)/room-temperature.csv')\n",
    "X = df.drop(columns=\"Date\")\n",
    "\n",
    "# Inspect shape of X to see it currently has 4 features\n",
    "print(f\"\\nShape of X: {X.shape} \\n\")"
   ]
  },
  {
   "cell_type": "code",
   "execution_count": 11,
   "id": "f43d19ab",
   "metadata": {},
   "outputs": [
    {
     "name": "stdout",
     "output_type": "stream",
     "text": [
      "\n",
      "Explained variance ratio (first two components): [0.7660801  0.16896714]\n",
      "\n",
      "\n"
     ]
    }
   ],
   "source": [
    "# Standardize the features to have a mean of 0 and standard deviation of 1\n",
    "X_s = StandardScaler().fit_transform(X)\n",
    "\n",
    "# Initialize PCA, setting the number of components to 2 for a 2D projection\n",
    "pca = PCA(n_components=2)\n",
    "\n",
    "# Apply PCA to the scaled data and project it onto the 2 principal components\n",
    "X_r2 = pca.fit_transform(X_s)\n",
    "\n",
    "# Print the explained variance ratio of the first two principal components\n",
    "print('\\nExplained variance ratio (first two components): %s' % str(pca.explained_variance_ratio_))\n",
    "print ('\\n')\n",
    "\n",
    "# Get the eigenvalues (explained variance for each component)\n",
    "eigenvalues = pca.explained_variance_\n",
    "\n",
    "# Since we don't have a 'y', there is really nothing to plot against"
   ]
  }
 ],
 "metadata": {
  "kernelspec": {
   "display_name": "Python 3 (ipykernel)",
   "language": "python",
   "name": "python3"
  },
  "language_info": {
   "codemirror_mode": {
    "name": "ipython",
    "version": 3
   },
   "file_extension": ".py",
   "mimetype": "text/x-python",
   "name": "python",
   "nbconvert_exporter": "python",
   "pygments_lexer": "ipython3",
   "version": "3.11.5"
  }
 },
 "nbformat": 4,
 "nbformat_minor": 5
}
