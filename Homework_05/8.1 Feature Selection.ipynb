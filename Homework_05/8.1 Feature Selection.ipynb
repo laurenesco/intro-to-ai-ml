{
 "cells": [
  {
   "cell_type": "code",
   "execution_count": null,
   "id": "b0b2bebd",
   "metadata": {},
   "outputs": [],
   "source": [
    "# \n",
    "# Pick any dataset from the previous chapters – either a hands-on example or a \n",
    "# practice problem – that contains at least 10 features. Run through a feature \n",
    "# selection exploration using  any of the methods that we have seen. Report your \n",
    "# findings.  Now, run your original analysis (regression, classification, \n",
    "# clustering) with the new  dataset containing fewer features. Compare the original \n",
    "# outcomes with the ones you get  now. How close or different are they? \n",
    "# "
   ]
  },
  {
   "cell_type": "code",
   "execution_count": 8,
   "id": "881402e9",
   "metadata": {},
   "outputs": [
    {
     "name": "stdout",
     "output_type": "stream",
     "text": [
      "\n",
      "Shape of X: (178, 13) \n",
      "\n"
     ]
    }
   ],
   "source": [
    "import pandas as pd\n",
    "import numpy as np\n",
    "import pandas.api.types as pdtypes  \n",
    "\n",
    "# Load and format the dataset\n",
    "class_names = {1: 'Low', 2: 'Medium', 3: 'High'}\n",
    "colnames = ['Class', 'Alcohol', 'Malic acid', 'Ash', 'Alcalinity of ash', 'Magnesium', 'Total phenols',\n",
    "            'Flavanoids', 'Nonflavanoid phenols', 'Proanthocyanins', 'Color intensity', \n",
    "            'Hue', 'OD280/OD315 of diluted wines', 'Proline']\n",
    "df = pd.read_csv('../Datasets/Code_and_Data_(Chapter_07)/Code and Data (Chapter 07)/wine.data', names=colnames)\n",
    "\n",
    "# Select feature set and target variable\n",
    "X = df.drop(columns='Class')\n",
    "y = df.Class\n",
    "\n",
    "# Inspect shape of X to see it currently has 13 features\n",
    "print(f\"\\nShape of X: {X.shape} \\n\")"
   ]
  },
  {
   "cell_type": "code",
   "execution_count": 9,
   "id": "c67f7762",
   "metadata": {},
   "outputs": [
    {
     "name": "stdout",
     "output_type": "stream",
     "text": [
      "\n",
      "New shape of X: (178, 5)\n",
      "\n",
      "Selected Features: Total phenols, Flavanoids, Hue, OD280/OD315 of diluted wines, Proline\n",
      "\n"
     ]
    }
   ],
   "source": [
    "############################################################################\n",
    "#                                                                          #\n",
    "#                            Using SelectKBest                             #\n",
    "#                                                                          #\n",
    "############################################################################\n",
    "\n",
    "from sklearn.feature_selection import SelectKBest, f_regression \n",
    "\n",
    "# Initialize SelectKBest with the k_regression test as the scoring function\n",
    "# and set 'k' to 5 to select the 5 best features\n",
    "selector = SelectKBest(f_regression, k=5)\n",
    "\n",
    "# Apply the SelectKBest object to the feature matrix and target vector\n",
    "# to select the top 5 features and transform the dataset\n",
    "X_new = selector.fit_transform(X, y)\n",
    "\n",
    "# Show the dimensions of the feature matrix after feature selection\n",
    "print(f\"\\nNew shape of X: {X_new.shape}\") \n",
    "\n",
    "# Now to determine which features were selected, we can utilizle \n",
    "# the .get_support() function of SelectKBest model.\n",
    "\n",
    "# Get boolean mask of selected features e.g. [True, False, True, False, False, True, False, False, False, True]\n",
    "selected_features_mask = selector.get_support()\n",
    "\n",
    "# Get actual original feature names\n",
    "original_features = X.columns \n",
    "\n",
    "# Print the names of the selected features, I will call it sf for selected_features\n",
    "sf = original_features[selected_features_mask]\n",
    "print(f\"\\nSelected Features: {sf[0]}, {sf[1]}, {sf[2]}, {sf[3]}, {sf[4]}\\n\")"
   ]
  },
  {
   "cell_type": "code",
   "execution_count": 10,
   "id": "a0d64916",
   "metadata": {},
   "outputs": [
    {
     "name": "stdout",
     "output_type": "stream",
     "text": [
      "\n",
      "New shape of X: (178, 10)\n",
      "\n",
      "Selected Feature 1: Alcohol \n",
      "Selected Feature 2: Malic acid \n",
      "Selected Feature 3: Alcalinity of ash \n",
      "Selected Feature 4: Magnesium \n",
      "Selected Feature 5: Total phenols \n",
      "Selected Feature 6: Flavanoids \n",
      "Selected Feature 7: Proanthocyanins \n",
      "Selected Feature 8: Color intensity \n",
      "Selected Feature 9: OD280/OD315 of diluted wines \n",
      "Selected Feature 10: Proline \n",
      "\n"
     ]
    }
   ],
   "source": [
    "############################################################################\n",
    "#                                                                          #\n",
    "#                         Using VarianceThreshold                          #\n",
    "#                                                                          #\n",
    "############################################################################\n",
    "\n",
    "from sklearn.feature_selection import VarianceThreshold  \n",
    "\n",
    "# Instantiate the VarianceThreshold object 'sel' with a threshold of 0.2.\n",
    "sel = VarianceThreshold(threshold=0.2)  \n",
    "\n",
    "# Apply the VarianceThreshold to the dataset 'X' using the 'fit_transform' method. \n",
    "# This method first fits the variance threshold model to the data and then transforms \n",
    "# the data by removing features that don't meet the threshold. The result is stored in 'X_new'.\n",
    "X_new = sel.fit_transform(X)  \n",
    "\n",
    "# Print the shape of dataset 'X_new'\n",
    "print(f\"\\nNew shape of X: {X_new.shape}\")\n",
    "\n",
    "# Get boolean mask of selected features e.g. [True, False, True, False, False, True, False, False, False, True]\n",
    "selected_features_mask = sel.get_support()\n",
    "\n",
    "# Print the names of the selected features, I will call it sf for selected_features\n",
    "sf = original_features[selected_features_mask]\n",
    "for i in range(len(sf)):\n",
    "    print(f\"\\nSelected Feature {i+1}: {sf[i]}\", end=\" \")\n",
    "print (\"\\n\")"
   ]
  },
  {
   "cell_type": "code",
   "execution_count": 12,
   "id": "2056fab6",
   "metadata": {},
   "outputs": [
    {
     "name": "stdout",
     "output_type": "stream",
     "text": [
      "                     Feature  Importance\n",
      "                  Flavanoids    0.248349\n",
      "OD280/OD315 of diluted wines    0.220169\n",
      "                     Proline    0.184423\n",
      "               Total phenols    0.086301\n",
      "                         Hue    0.071287\n",
      "                     Alcohol    0.060253\n",
      "             Color intensity    0.059611\n",
      "                  Malic acid    0.018920\n",
      "                   Magnesium    0.015938\n",
      "           Alcalinity of ash    0.015481\n",
      "             Proanthocyanins    0.007912\n",
      "        Nonflavanoid phenols    0.006807\n",
      "                         Ash    0.004550\n"
     ]
    },
    {
     "data": {
      "image/png": "[encoded data removed]",
      "text/plain": [
       "<Figure size 800x800 with 1 Axes>"
      ]
     },
     "metadata": {},
     "output_type": "display_data"
    }
   ],
   "source": [
    "############################################################################\n",
    "#                                                                          #\n",
    "#                        Using ExtraTreesRegressor                         #\n",
    "#                                                                          #\n",
    "############################################################################\n",
    "\n",
    "from sklearn.ensemble import ExtraTreesRegressor \n",
    "import matplotlib.pyplot as plt\n",
    "\n",
    "# Create an ExtraTreesRegressor object. \n",
    "# 'n_estimators=100' specifies that 100 trees should be grown in this forest\n",
    "# 'random_state=42' makes the randomness deterministic, allowing for reproducible results each time the code is run.\n",
    "reg = ExtraTreesRegressor(n_estimators=100, random_state=42)\n",
    "\n",
    "# Train the regressor. \n",
    "reg = reg.fit(X, y)\n",
    "\n",
    "# Output the feature importances.\n",
    "feature_importance_df = pd.DataFrame({'Feature': X.columns, 'Importance': reg.feature_importances_})\n",
    "feature_importance_df = feature_importance_df.sort_values(by='Importance', ascending=False)\n",
    "print(feature_importance_df.to_string(index=False))\n",
    "\n",
    "# Sort the feature importances in ascending order and get the indices\n",
    "tree_importance_sorted_idx = np.argsort(reg.feature_importances_)\n",
    "\n",
    "# Create array of indices as float values which are offset by 0.5 to center align the labels\n",
    "tree_indices = np.arange(0, len(reg.feature_importances_)) + 0.5\n",
    "\n",
    "# Create a horizontal bar chart where the bar heights are the feature importances\n",
    "# and use the sorted indices to order the bars. \n",
    "fig = plt.figure(figsize = (8,8))\n",
    "ax1 = fig.add_subplot(1,1,1)\n",
    "ax1.barh(tree_indices, reg.feature_importances_[tree_importance_sorted_idx], height=0.7)\n",
    "ax1.set_yticks(tree_indices)\n",
    "ax1.set_yticklabels(df.columns[tree_importance_sorted_idx])\n",
    "ax1.set_ylim((0, len(reg.feature_importances_)))\n",
    "ax1.set_title('Feature Importance', fontsize = 20)\n",
    "plt.show()"
   ]
  },
  {
   "cell_type": "code",
   "execution_count": 13,
   "id": "372dffce",
   "metadata": {},
   "outputs": [
    {
     "name": "stdout",
     "output_type": "stream",
     "text": [
      "\n",
      "New shape of X: (178, 4)\n",
      "\n",
      "Features selected: Total phenols, Flavanoids, OD280/OD315 of diluted wines, Proline\n",
      "\n"
     ]
    },
    {
     "name": "stderr",
     "output_type": "stream",
     "text": [
      "C:\\Users\\laesc\\anaconda3\\Lib\\site-packages\\sklearn\\base.py:457: UserWarning: X has feature names, but SelectFromModel was fitted without feature names\n",
      "  warnings.warn(\n"
     ]
    }
   ],
   "source": [
    "############################################################################\n",
    "#                                                                          #\n",
    "#                          Using SelectFromModel                           #\n",
    "#                                                                          #\n",
    "############################################################################\n",
    "\n",
    "# Import the 'SelectFromModel' class from the 'feature_selection' module of the 'sklearn' library.\n",
    "# This class is used to select features based on the importance weights of another model.\n",
    "from sklearn.feature_selection import SelectFromModel\n",
    "\n",
    "# prefit = True indicates we have already fit the \"reg\" model.\n",
    "model = SelectFromModel(reg, prefit=True)\n",
    "\n",
    "# Transform the feature matrix 'X' using the initialized 'SelectFromModel' instance.\n",
    "# The result is a new feature matrix 'X_new' that contains only the selected features.\n",
    "X_new = model.transform(X)\n",
    "\n",
    "# Show the dimensions after selection\n",
    "print(f\"\\nNew shape of X: {X_new.shape}\\n\")\n",
    "\n",
    "# Get indices of selected features for printing\n",
    "selected_feature_indices = model.get_support(indices=True)\n",
    "selected_features = \", \".join(X.columns[selected_feature_indices])\n",
    "print(f\"Features selected: {selected_features}\\n\")"
   ]
  }
 ],
 "metadata": {
  "kernelspec": {
   "display_name": "Python 3 (ipykernel)",
   "language": "python",
   "name": "python3"
  },
  "language_info": {
   "codemirror_mode": {
    "name": "ipython",
    "version": 3
   },
   "file_extension": ".py",
   "mimetype": "text/x-python",
   "name": "python",
   "nbconvert_exporter": "python",
   "pygments_lexer": "ipython3",
   "version": "3.11.5"
  }
 },
 "nbformat": 4,
 "nbformat_minor": 5
}
