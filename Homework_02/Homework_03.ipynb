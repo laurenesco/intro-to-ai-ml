{
  "nbformat": 4,
  "nbformat_minor": 0,
  "metadata": {
    "colab": {
      "provenance": []
    },
    "kernelspec": {
      "name": "python3",
      "display_name": "Python 3"
    },
    "language_info": {
      "name": "python"
    }
  },
  "cells": [
    {
      "cell_type": "code",
      "execution_count": null,
      "metadata": {
        "id": "9prG-Ahr2s5S"
      },
      "outputs": [],
      "source": [
        "# Problem statement:\n",
        "#\n",
        "# For this exercise, connect to your GCP account and use appropriate tools (e.g., Google Colab)\n",
        "# for writing the  code in Python. You are visiting Europe from the USA and need to convert your\n",
        "# US dollars (USD) to euros (EUR).  Write a function that converts USD to EUR using the current\n",
        "# conversion rate (you will have to look this up). It  will take one argument and return one value.\n",
        "# From the main part of the program, call that function and show  your conversion at work."
      ]
    },
    {
      "cell_type": "code",
      "source": [
        "def usd_to_eur(amount):\n",
        "  return amount * .93\n",
        "\n",
        "print (usd_to_eur(100))"
      ],
      "metadata": {
        "id": "lJMJsy4b3n2w",
        "colab": {
          "base_uri": "https://localhost:8080/"
        },
        "outputId": "8bd056e4-0234-401d-ff19-b5a182514ebe"
      },
      "execution_count": null,
      "outputs": [
        {
          "output_type": "stream",
          "name": "stdout",
          "text": [
            "93.0\n"
          ]
        }
      ]
    },
    {
      "cell_type": "code",
      "source": [
        "# Problem statement:\n",
        "\n",
        "# For this exercise, connect to your Azure account and use appropriate tools to write the\n",
        "# code in Python. Light  travels at the speed of 186,000 miles/s. Assuming communication\n",
        "# messages travel at the speed of light, you  want to find out how long it will take for a\n",
        "# message sent from Earth to reach various planets. Write a program  that interacts with the\n",
        "# user, asking the distance. For instance, a user will enter 158,200,000 for Mars (that is\n",
        "# the average distance). Then calculate how long a message will take to travel that distance."
      ],
      "metadata": {
        "id": "lQHTBgr-O2nE"
      },
      "execution_count": 6,
      "outputs": []
    },
    {
      "cell_type": "code",
      "source": [
        "def how_long(distance):\n",
        "  # Return time in minutes\n",
        "  return (int(distance) * 186000)/60\n",
        "\n",
        "print(how_long(input(\"Enter a distance in miles: \")))"
      ],
      "metadata": {
        "colab": {
          "base_uri": "https://localhost:8080/"
        },
        "id": "vGEfTGl3R5Jt",
        "outputId": "6fadd115-6c38-4151-bb06-32bf69ff7195"
      },
      "execution_count": 10,
      "outputs": [
        {
          "output_type": "stream",
          "name": "stdout",
          "text": [
            "Enter a distance in miles: 186200000\n",
            "577220000000.0\n"
          ]
        }
      ]
    }
  ]
}