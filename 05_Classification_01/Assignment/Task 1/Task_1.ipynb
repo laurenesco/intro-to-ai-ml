{
 "cells": [
  {
   "cell_type": "code",
   "execution_count": 6,
   "id": "10939003",
   "metadata": {},
   "outputs": [],
   "source": [
    "# TASK 1: Implement a KNN Classification  [30 Minutes]\n",
    "#\n",
    "# Dataset: \"seeds_dataset.txt\"\n",
    "#\n",
    "# Task to carry out: Consider the wheat dataset that comprises data about kernels \n",
    "# belonging to three different varieties of wheat: Kama, Rosa,  and Canadian. \n",
    "# For each wheat variety, with a random sample of 70 elements, high-quality \n",
    "# visualization of  the internal kernel structure was detected using a soft \n",
    "# X-ray technique. Seven geometric parameters of wheat  kernels were \n",
    "# measured. Use these measurements to classify the wheat variety. Notice \n",
    "# the column of this dataset are as follows: = ['a', 'p', 'compactness', \n",
    "# 'length', 'width', 'coeff', 'length_g', 'type']"
   ]
  },
  {
   "cell_type": "code",
   "execution_count": 7,
   "id": "738767fa",
   "metadata": {},
   "outputs": [],
   "source": [
    "# Import necessary libraries\n",
    "import numpy as np  # For numerical operations\n",
    "import pandas as pd  # For data manipulation\n",
    "import matplotlib.pyplot as plt  # For plotting\n",
    "from sklearn.neighbors import KNeighborsClassifier  # KNN classifier\n",
    "from sklearn.model_selection import train_test_split  # For splitting the dataset\n",
    "\n",
    "# Load the dataset into a pandas DataFrame\n",
    "colnames=['a', 'p', 'compactness', 'length', 'width', 'coeff', 'length_g', 'type'] \n",
    "df = pd.read_csv(\"seeds_dataset.txt\", names=colnames, delimiter=\"\\t\")\n",
    "\n",
    "kama = 1\n",
    "rosa = 2\n",
    "canadian = 3\n",
    "\n",
    "# print (df)"
   ]
  },
  {
   "cell_type": "code",
   "execution_count": 8,
   "id": "064ad528",
   "metadata": {},
   "outputs": [],
   "source": [
    "# Split the dataset into training and test sets, selecting 'compactness', 'length', and 'width'\n",
    "# as features and 'type' as the target variable. 70% of data is used for training and 30% for testing.\n",
    "X_train, X_test, y_train, y_test = train_test_split(df[['compactness','length','width']], df['type'], test_size=.3)"
   ]
  },
  {
   "cell_type": "code",
   "execution_count": 9,
   "id": "bf868d55",
   "metadata": {},
   "outputs": [
    {
     "data": {
      "text/html": [
       "<style>#sk-container-id-1 {color: black;}#sk-container-id-1 pre{padding: 0;}#sk-container-id-1 div.sk-toggleable {background-color: white;}#sk-container-id-1 label.sk-toggleable__label {cursor: pointer;display: block;width: 100%;margin-bottom: 0;padding: 0.3em;box-sizing: border-box;text-align: center;}#sk-container-id-1 label.sk-toggleable__label-arrow:before {content: \"▸\";float: left;margin-right: 0.25em;color: #696969;}#sk-container-id-1 label.sk-toggleable__label-arrow:hover:before {color: black;}#sk-container-id-1 div.sk-estimator:hover label.sk-toggleable__label-arrow:before {color: black;}#sk-container-id-1 div.sk-toggleable__content {max-height: 0;max-width: 0;overflow: hidden;text-align: left;background-color: #f0f8ff;}#sk-container-id-1 div.sk-toggleable__content pre {margin: 0.2em;color: black;border-radius: 0.25em;background-color: #f0f8ff;}#sk-container-id-1 input.sk-toggleable__control:checked~div.sk-toggleable__content {max-height: 200px;max-width: 100%;overflow: auto;}#sk-container-id-1 input.sk-toggleable__control:checked~label.sk-toggleable__label-arrow:before {content: \"▾\";}#sk-container-id-1 div.sk-estimator input.sk-toggleable__control:checked~label.sk-toggleable__label {background-color: #d4ebff;}#sk-container-id-1 div.sk-label input.sk-toggleable__control:checked~label.sk-toggleable__label {background-color: #d4ebff;}#sk-container-id-1 input.sk-hidden--visually {border: 0;clip: rect(1px 1px 1px 1px);clip: rect(1px, 1px, 1px, 1px);height: 1px;margin: -1px;overflow: hidden;padding: 0;position: absolute;width: 1px;}#sk-container-id-1 div.sk-estimator {font-family: monospace;background-color: #f0f8ff;border: 1px dotted black;border-radius: 0.25em;box-sizing: border-box;margin-bottom: 0.5em;}#sk-container-id-1 div.sk-estimator:hover {background-color: #d4ebff;}#sk-container-id-1 div.sk-parallel-item::after {content: \"\";width: 100%;border-bottom: 1px solid gray;flex-grow: 1;}#sk-container-id-1 div.sk-label:hover label.sk-toggleable__label {background-color: #d4ebff;}#sk-container-id-1 div.sk-serial::before {content: \"\";position: absolute;border-left: 1px solid gray;box-sizing: border-box;top: 0;bottom: 0;left: 50%;z-index: 0;}#sk-container-id-1 div.sk-serial {display: flex;flex-direction: column;align-items: center;background-color: white;padding-right: 0.2em;padding-left: 0.2em;position: relative;}#sk-container-id-1 div.sk-item {position: relative;z-index: 1;}#sk-container-id-1 div.sk-parallel {display: flex;align-items: stretch;justify-content: center;background-color: white;position: relative;}#sk-container-id-1 div.sk-item::before, #sk-container-id-1 div.sk-parallel-item::before {content: \"\";position: absolute;border-left: 1px solid gray;box-sizing: border-box;top: 0;bottom: 0;left: 50%;z-index: -1;}#sk-container-id-1 div.sk-parallel-item {display: flex;flex-direction: column;z-index: 1;position: relative;background-color: white;}#sk-container-id-1 div.sk-parallel-item:first-child::after {align-self: flex-end;width: 50%;}#sk-container-id-1 div.sk-parallel-item:last-child::after {align-self: flex-start;width: 50%;}#sk-container-id-1 div.sk-parallel-item:only-child::after {width: 0;}#sk-container-id-1 div.sk-dashed-wrapped {border: 1px dashed gray;margin: 0 0.4em 0.5em 0.4em;box-sizing: border-box;padding-bottom: 0.4em;background-color: white;}#sk-container-id-1 div.sk-label label {font-family: monospace;font-weight: bold;display: inline-block;line-height: 1.2em;}#sk-container-id-1 div.sk-label-container {text-align: center;}#sk-container-id-1 div.sk-container {/* jupyter's `normalize.less` sets `[hidden] { display: none; }` but bootstrap.min.css set `[hidden] { display: none !important; }` so we also need the `!important` here to be able to override the default hidden behavior on the sphinx rendered scikit-learn.org. See: https://github.com/scikit-learn/scikit-learn/issues/21755 */display: inline-block !important;position: relative;}#sk-container-id-1 div.sk-text-repr-fallback {display: none;}</style><div id=\"sk-container-id-1\" class=\"sk-top-container\"><div class=\"sk-text-repr-fallback\"><pre>KNeighborsClassifier(n_neighbors=3)</pre><b>In a Jupyter environment, please rerun this cell to show the HTML representation or trust the notebook. <br />On GitHub, the HTML representation is unable to render, please try loading this page with nbviewer.org.</b></div><div class=\"sk-container\" hidden><div class=\"sk-item\"><div class=\"sk-estimator sk-toggleable\"><input class=\"sk-toggleable__control sk-hidden--visually\" id=\"sk-estimator-id-1\" type=\"checkbox\" checked><label for=\"sk-estimator-id-1\" class=\"sk-toggleable__label sk-toggleable__label-arrow\">KNeighborsClassifier</label><div class=\"sk-toggleable__content\"><pre>KNeighborsClassifier(n_neighbors=3)</pre></div></div></div></div></div>"
      ],
      "text/plain": [
       "KNeighborsClassifier(n_neighbors=3)"
      ]
     },
     "execution_count": 9,
     "metadata": {},
     "output_type": "execute_result"
    }
   ],
   "source": [
    "# Initialize the KNeighborsClassifier with 3 neighbors, then fit it to the training data\n",
    "classifier = KNeighborsClassifier(n_neighbors=3)\n",
    "classifier.fit(X_train, y_train)"
   ]
  },
  {
   "cell_type": "code",
   "execution_count": 10,
   "id": "ca60aa8e",
   "metadata": {},
   "outputs": [],
   "source": [
    "# Use the trained classifier to make predictions on the test set\n",
    "prediction = classifier.predict(X_test)"
   ]
  },
  {
   "cell_type": "code",
   "execution_count": 11,
   "id": "bbbea2f5",
   "metadata": {},
   "outputs": [
    {
     "name": "stdout",
     "output_type": "stream",
     "text": [
      "54\n"
     ]
    }
   ],
   "source": [
    "# Calculate the number of correct predictions by comparing them to the true test labels\n",
    "correct = np.where(prediction==y_test, 1, 0).sum()\n",
    "print(correct)"
   ]
  },
  {
   "cell_type": "code",
   "execution_count": 12,
   "id": "89155658",
   "metadata": {},
   "outputs": [
    {
     "name": "stdout",
     "output_type": "stream",
     "text": [
      "0.8571428571428571\n"
     ]
    }
   ],
   "source": [
    "# Calculate the accuracy of the model as the fraction of correct predictions over total predictions\n",
    "accuracy = correct / len(y_test)\n",
    "print(accuracy)"
   ]
  },
  {
   "cell_type": "code",
   "execution_count": 13,
   "id": "73f56d16",
   "metadata": {},
   "outputs": [],
   "source": [
    "# Initialize an empty list to store results of model accuracy for different values of k\n",
    "results = []"
   ]
  },
  {
   "cell_type": "code",
   "execution_count": 14,
   "id": "ab8ffaca",
   "metadata": {},
   "outputs": [
    {
     "name": "stdout",
     "output_type": "stream",
     "text": [
      "k= 1  Accuracy= 0.8412698412698413\n",
      "k= 3  Accuracy= 0.8571428571428571\n",
      "k= 5  Accuracy= 0.8412698412698413\n",
      "k= 7  Accuracy= 0.8571428571428571\n",
      "k= 9  Accuracy= 0.8888888888888888\n",
      "k= 11  Accuracy= 0.8888888888888888\n",
      "k= 13  Accuracy= 0.8888888888888888\n",
      "k= 15  Accuracy= 0.8888888888888888\n",
      "k= 17  Accuracy= 0.8888888888888888\n",
      "k= 19  Accuracy= 0.8888888888888888\n",
      "k= 21  Accuracy= 0.873015873015873\n",
      "k= 23  Accuracy= 0.8888888888888888\n",
      "k= 25  Accuracy= 0.9047619047619048\n",
      "k= 27  Accuracy= 0.9047619047619048\n",
      "k= 29  Accuracy= 0.9047619047619048\n",
      "k= 31  Accuracy= 0.9047619047619048\n",
      "k= 33  Accuracy= 0.9047619047619048\n",
      "k= 35  Accuracy= 0.9047619047619048\n",
      "k= 37  Accuracy= 0.8888888888888888\n",
      "k= 39  Accuracy= 0.9047619047619048\n",
      "k= 41  Accuracy= 0.9047619047619048\n",
      "k= 43  Accuracy= 0.9047619047619048\n",
      "k= 45  Accuracy= 0.9047619047619048\n",
      "k= 47  Accuracy= 0.9047619047619048\n",
      "k= 49  Accuracy= 0.9047619047619048\n"
     ]
    },
    {
     "data": {
      "image/png": "[encoded data removed]",
      "text/plain": [
       "<Figure size 640x480 with 1 Axes>"
      ]
     },
     "metadata": {},
     "output_type": "display_data"
    }
   ],
   "source": [
    "# Loop over a range of k values from 1 to 50 in steps of 2 to find the best k for the classifier\n",
    "for k in range(1, 51, 2):\n",
    "    classifier = KNeighborsClassifier(n_neighbors=k)  # Define the classifier with current k\n",
    "    classifier.fit(X_train, y_train)  # Train the classifier\n",
    "    prediction = classifier.predict(X_test)  # Make predictions on the test set\n",
    "    # Calculate accuracy and print it\n",
    "    accuracy = np.where(prediction==y_test, 1, 0).sum() / len(y_test)\n",
    "    print(\"k=\", k, \" Accuracy=\", accuracy)\n",
    "    results.append([k, accuracy])  # Store the results (k and accuracy)\n",
    "\n",
    "# Convert results list to a DataFrame for easy plotting\n",
    "results = pd.DataFrame(results, columns=[\"k\", \"accuracy\"])\n",
    "\n",
    "# Plot the relationship between k and accuracy\n",
    "plt.plot(results.k, results.accuracy)\n",
    "plt.title(\"Value of k and corresponding classification accuracy\")\n",
    "plt.show()"
   ]
  }
 ],
 "metadata": {
  "kernelspec": {
   "display_name": "Python 3 (ipykernel)",
   "language": "python",
   "name": "python3"
  },
  "language_info": {
   "codemirror_mode": {
    "name": "ipython",
    "version": 3
   },
   "file_extension": ".py",
   "mimetype": "text/x-python",
   "name": "python",
   "nbconvert_exporter": "python",
   "pygments_lexer": "ipython3",
   "version": "3.11.5"
  }
 },
 "nbformat": 4,
 "nbformat_minor": 5
}
